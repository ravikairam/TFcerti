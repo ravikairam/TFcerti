{
 "cells": [
  {
   "cell_type": "code",
   "execution_count": null,
   "metadata": {},
   "outputs": [],
   "source": [
    "!pip install tensorflow"
   ]
  },
  {
   "cell_type": "code",
   "execution_count": 2,
   "metadata": {},
   "outputs": [
    {
     "name": "stdout",
     "output_type": "stream",
     "text": [
      "2.4.1\n"
     ]
    }
   ],
   "source": [
    "import tensorflow as tf\n",
    "print(tf.__version__)"
   ]
  },
  {
   "cell_type": "code",
   "execution_count": 3,
   "metadata": {},
   "outputs": [],
   "source": [
    "from tensorflow import keras\n",
    "from tensorflow.keras import layers\n",
    "import numpy as np"
   ]
  },
  {
   "cell_type": "code",
   "execution_count": 4,
   "metadata": {},
   "outputs": [],
   "source": [
    "xs = np.array([-1.0,0.0,1.0,2.0,3.0,4.0],dtype=float)\n",
    "ys = np.array([-3.0,-1.0,1.0,3.0,5.0,7.0],dtype=float)"
   ]
  },
  {
   "cell_type": "code",
   "execution_count": 5,
   "metadata": {},
   "outputs": [
    {
     "data": {
      "text/plain": [
       "(numpy.ndarray, numpy.ndarray)"
      ]
     },
     "execution_count": 5,
     "metadata": {},
     "output_type": "execute_result"
    }
   ],
   "source": [
    "type(xs),type(ys)"
   ]
  },
  {
   "cell_type": "code",
   "execution_count": 6,
   "metadata": {},
   "outputs": [
    {
     "data": {
      "text/plain": [
       "((6,), (6,))"
      ]
     },
     "execution_count": 6,
     "metadata": {},
     "output_type": "execute_result"
    }
   ],
   "source": [
    "xs.shape ,ys.shape"
   ]
  },
  {
   "cell_type": "code",
   "execution_count": 7,
   "metadata": {},
   "outputs": [],
   "source": [
    "model = tf.keras.Sequential([tf.keras.layers.Dense(units=1,input_shape =[1])])"
   ]
  },
  {
   "cell_type": "code",
   "execution_count": 8,
   "metadata": {},
   "outputs": [],
   "source": [
    "model.compile(optimizer= 'sgd',loss = 'mean_squared_error')"
   ]
  },
  {
   "cell_type": "code",
   "execution_count": 9,
   "metadata": {},
   "outputs": [
    {
     "name": "stdout",
     "output_type": "stream",
     "text": [
      "Epoch 1/10\n",
      "1/1 [==============================] - 1s 521ms/step - loss: 8.8739\n",
      "Epoch 2/10\n",
      "1/1 [==============================] - 0s 6ms/step - loss: 7.1850\n",
      "Epoch 3/10\n",
      "1/1 [==============================] - 0s 8ms/step - loss: 5.8521\n",
      "Epoch 4/10\n",
      "1/1 [==============================] - 0s 8ms/step - loss: 4.7993\n",
      "Epoch 5/10\n",
      "1/1 [==============================] - 0s 8ms/step - loss: 3.9670\n",
      "Epoch 6/10\n",
      "1/1 [==============================] - 0s 9ms/step - loss: 3.3083\n",
      "Epoch 7/10\n",
      "1/1 [==============================] - 0s 8ms/step - loss: 2.7862\n",
      "Epoch 8/10\n",
      "1/1 [==============================] - 0s 8ms/step - loss: 2.3717\n",
      "Epoch 9/10\n",
      "1/1 [==============================] - 0s 6ms/step - loss: 2.0419\n",
      "Epoch 10/10\n",
      "1/1 [==============================] - 0s 7ms/step - loss: 1.7788\n"
     ]
    },
    {
     "data": {
      "text/plain": [
       "<tensorflow.python.keras.callbacks.History at 0x1d0d62d76d0>"
      ]
     },
     "execution_count": 9,
     "metadata": {},
     "output_type": "execute_result"
    }
   ],
   "source": [
    "model.fit(xs,ys,epochs=10)"
   ]
  },
  {
   "cell_type": "code",
   "execution_count": 16,
   "metadata": {},
   "outputs": [],
   "source": [
    "def house_model(y_new):\n",
    "    xs = np.array([-1.0,0.0,1.0,2.0,3.0,4.0],dtype=float)\n",
    "    ys = np.array([-3.0,-1.0,1.0,3.0,5.0,7.0],dtype=float)\n",
    "    model = tf.keras.Sequential([tf.keras.layers.Dense(units=1,input_shape=[1])])\n",
    "    model.compile(optimizer='sgd',loss ='mean_squared_error',metrics = \"accuracy\")\n",
    "    model.fit(xs,ys,epochs=10)\n",
    "    return model.predict(y_new)[0]"
   ]
  },
  {
   "cell_type": "code",
   "execution_count": 17,
   "metadata": {},
   "outputs": [
    {
     "name": "stdout",
     "output_type": "stream",
     "text": [
      "Epoch 1/10\n",
      "1/1 [==============================] - 1s 594ms/step - loss: 1.7943 - accuracy: 0.1667\n",
      "Epoch 2/10\n",
      "1/1 [==============================] - 0s 7ms/step - loss: 1.5527 - accuracy: 0.1667\n",
      "Epoch 3/10\n",
      "1/1 [==============================] - 0s 10ms/step - loss: 1.3597 - accuracy: 0.1667\n",
      "Epoch 4/10\n",
      "1/1 [==============================] - 0s 7ms/step - loss: 1.2050 - accuracy: 0.1667\n",
      "Epoch 5/10\n",
      "1/1 [==============================] - 0s 9ms/step - loss: 1.0805 - accuracy: 0.1667\n",
      "Epoch 6/10\n",
      "1/1 [==============================] - 0s 9ms/step - loss: 0.9799 - accuracy: 0.1667\n",
      "Epoch 7/10\n",
      "1/1 [==============================] - 0s 7ms/step - loss: 0.8980 - accuracy: 0.1667\n",
      "Epoch 8/10\n",
      "1/1 [==============================] - 0s 10ms/step - loss: 0.8310 - accuracy: 0.1667\n",
      "Epoch 9/10\n",
      "1/1 [==============================] - 0s 8ms/step - loss: 0.7757 - accuracy: 0.1667\n",
      "Epoch 10/10\n",
      "1/1 [==============================] - 0s 9ms/step - loss: 0.7298 - accuracy: 0.1667\n",
      "WARNING:tensorflow:5 out of the last 5 calls to <function Model.make_predict_function.<locals>.predict_function at 0x000001D0D91FF4C0> triggered tf.function retracing. Tracing is expensive and the excessive number of tracings could be due to (1) creating @tf.function repeatedly in a loop, (2) passing tensors with different shapes, (3) passing Python objects instead of tensors. For (1), please define your @tf.function outside of the loop. For (2), @tf.function has experimental_relax_shapes=True option that relaxes argument shapes that can avoid unnecessary retracing. For (3), please refer to https://www.tensorflow.org/guide/function#controlling_retracing and https://www.tensorflow.org/api_docs/python/tf/function for  more details.\n"
     ]
    },
    {
     "data": {
      "text/plain": [
       "array([15.442676], dtype=float32)"
      ]
     },
     "execution_count": 17,
     "metadata": {},
     "output_type": "execute_result"
    }
   ],
   "source": [
    "house_model([10.0])"
   ]
  },
  {
   "cell_type": "code",
   "execution_count": 18,
   "metadata": {},
   "outputs": [],
   "source": [
    "y_new = [12,15,25]"
   ]
  },
  {
   "cell_type": "code",
   "execution_count": 11,
   "metadata": {},
   "outputs": [],
   "source": [
    "def house_model(y_new):\n",
    "    xs = np.array([-1.0,0.0,1.0,2.0,3.0,4.0],dtype=float)\n",
    "    ys = np.array([-3.0,-1.0,1.0,3.0,5.0,7.0],dtype=float)\n",
    "    model = tf.keras.Sequential([tf.keras.layers.Dense(units=1,input_shape=[1])])\n",
    "    model.compile(optimizer='sgd',loss ='mean_squared_error',metrics = \"accuracy\")\n",
    "    model.fit(xs,ys,epochs=10)\n",
    "    return model.predict(y_new)"
   ]
  },
  {
   "cell_type": "code",
   "execution_count": 22,
   "metadata": {},
   "outputs": [
    {
     "name": "stdout",
     "output_type": "stream",
     "text": [
      "Epoch 1/10\n",
      "1/1 [==============================] - 1s 581ms/step - loss: 41.9838 - accuracy: 0.0000e+00\n",
      "Epoch 2/10\n",
      "1/1 [==============================] - 0s 7ms/step - loss: 33.3937 - accuracy: 0.0000e+00\n",
      "Epoch 3/10\n",
      "1/1 [==============================] - 0s 8ms/step - loss: 26.6280 - accuracy: 0.0000e+00\n",
      "Epoch 4/10\n",
      "1/1 [==============================] - 0s 8ms/step - loss: 21.2978 - accuracy: 0.0000e+00\n",
      "Epoch 5/10\n",
      "1/1 [==============================] - 0s 8ms/step - loss: 17.0970 - accuracy: 0.0000e+00\n",
      "Epoch 6/10\n",
      "1/1 [==============================] - 0s 9ms/step - loss: 13.7851 - accuracy: 0.0000e+00\n",
      "Epoch 7/10\n",
      "1/1 [==============================] - 0s 9ms/step - loss: 11.1726 - accuracy: 0.1667\n",
      "Epoch 8/10\n",
      "1/1 [==============================] - 0s 9ms/step - loss: 9.1104 - accuracy: 0.1667\n",
      "Epoch 9/10\n",
      "1/1 [==============================] - 0s 9ms/step - loss: 7.4814 - accuracy: 0.1667\n",
      "Epoch 10/10\n",
      "1/1 [==============================] - 0s 9ms/step - loss: 6.1934 - accuracy: 0.1667\n",
      "WARNING:tensorflow:9 out of the last 9 calls to <function Model.make_predict_function.<locals>.predict_function at 0x000001D0D615DF70> triggered tf.function retracing. Tracing is expensive and the excessive number of tracings could be due to (1) creating @tf.function repeatedly in a loop, (2) passing tensors with different shapes, (3) passing Python objects instead of tensors. For (1), please define your @tf.function outside of the loop. For (2), @tf.function has experimental_relax_shapes=True option that relaxes argument shapes that can avoid unnecessary retracing. For (3), please refer to https://www.tensorflow.org/guide/function#controlling_retracing and https://www.tensorflow.org/api_docs/python/tf/function for  more details.\n"
     ]
    },
    {
     "data": {
      "text/plain": [
       "8.878906"
      ]
     },
     "execution_count": 22,
     "metadata": {},
     "output_type": "execute_result"
    }
   ],
   "source": [
    "house_model(y_new)[0]"
   ]
  },
  {
   "cell_type": "code",
   "execution_count": 15,
   "metadata": {},
   "outputs": [
    {
     "name": "stdout",
     "output_type": "stream",
     "text": [
      "Epoch 1/10\n",
      "1/1 [==============================] - 0s 472ms/step - loss: 15.4385 - accuracy: 0.0000e+00\n",
      "Epoch 2/10\n",
      "1/1 [==============================] - 0s 8ms/step - loss: 12.3889 - accuracy: 0.0000e+00\n",
      "Epoch 3/10\n",
      "1/1 [==============================] - 0s 8ms/step - loss: 9.9846 - accuracy: 0.0000e+00\n",
      "Epoch 4/10\n",
      "1/1 [==============================] - 0s 7ms/step - loss: 8.0881 - accuracy: 0.1667\n",
      "Epoch 5/10\n",
      "1/1 [==============================] - 0s 9ms/step - loss: 6.5913 - accuracy: 0.1667\n",
      "Epoch 6/10\n",
      "1/1 [==============================] - 0s 9ms/step - loss: 5.4090 - accuracy: 0.1667\n",
      "Epoch 7/10\n",
      "1/1 [==============================] - 0s 9ms/step - loss: 4.4742 - accuracy: 0.1667\n",
      "Epoch 8/10\n",
      "1/1 [==============================] - 0s 8ms/step - loss: 3.7343 - accuracy: 0.1667\n",
      "Epoch 9/10\n",
      "1/1 [==============================] - 0s 8ms/step - loss: 3.1478 - accuracy: 0.1667\n",
      "Epoch 10/10\n",
      "1/1 [==============================] - 0s 12ms/step - loss: 2.6820 - accuracy: 0.1667\n"
     ]
    },
    {
     "data": {
      "text/plain": [
       "array([13.554085], dtype=float32)"
      ]
     },
     "execution_count": 15,
     "metadata": {},
     "output_type": "execute_result"
    }
   ],
   "source": [
    "house_model(y_new)[0]"
   ]
  },
  {
   "cell_type": "code",
   "execution_count": null,
   "metadata": {},
   "outputs": [],
   "source": []
  }
 ],
 "metadata": {
  "kernelspec": {
   "display_name": "Python 3",
   "language": "python",
   "name": "python3"
  },
  "language_info": {
   "codemirror_mode": {
    "name": "ipython",
    "version": 3
   },
   "file_extension": ".py",
   "mimetype": "text/x-python",
   "name": "python",
   "nbconvert_exporter": "python",
   "pygments_lexer": "ipython3",
   "version": "3.8.5"
  }
 },
 "nbformat": 4,
 "nbformat_minor": 4
}
