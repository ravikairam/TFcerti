{
 "cells": [
  {
   "cell_type": "code",
   "execution_count": 1,
   "metadata": {},
   "outputs": [],
   "source": [
    "import numpy as np\n",
    "\n",
    "import json\n",
    "import tensorflow as tf\n",
    "\n",
    "from tensorflow.keras.preprocessing.text import Tokenizer\n",
    "from tensorflow.keras.preprocessing.sequence import pad_sequences"
   ]
  },
  {
   "cell_type": "code",
   "execution_count": 2,
   "metadata": {},
   "outputs": [
    {
     "name": "stdout",
     "output_type": "stream",
     "text": [
      "Requirement already satisfied: wget in c:\\users\\user\\anaconda3\\lib\\site-packages (3.2)\n"
     ]
    }
   ],
   "source": [
    "!pip install wget\n",
    "import wget"
   ]
  },
  {
   "cell_type": "code",
   "execution_count": 3,
   "metadata": {},
   "outputs": [
    {
     "name": "stdout",
     "output_type": "stream",
     "text": [
      "100% [..........................................................................] 5643545 / 5643545"
     ]
    }
   ],
   "source": [
    "import wget\n",
    "url = 'https://storage.googleapis.com/laurencemoroney-blog.appspot.com/sarcasm.json'\n",
    "myfile = wget.download(url)"
   ]
  },
  {
   "cell_type": "code",
   "execution_count": 4,
   "metadata": {},
   "outputs": [],
   "source": [
    "vocab_size = 1000\n",
    "embedding_dim = 16\n",
    "max_length = 120\n",
    "trunc_type='post'\n",
    "padding_type='post'\n",
    "oov_tok = \"<OOV>\"\n",
    "training_size = 20000"
   ]
  },
  {
   "cell_type": "code",
   "execution_count": 5,
   "metadata": {},
   "outputs": [],
   "source": [
    "import json\n",
    "\n",
    "with open(\"E:\\\\TensorflowDeveloperCertification\\\\Learning/sarcasm.json\", 'r') as f:\n",
    "    datastore = json.load(f)"
   ]
  },
  {
   "cell_type": "code",
   "execution_count": 6,
   "metadata": {},
   "outputs": [
    {
     "name": "stdout",
     "output_type": "stream",
     "text": [
      "Model: \"sequential\"\n",
      "_________________________________________________________________\n",
      "Layer (type)                 Output Shape              Param #   \n",
      "=================================================================\n",
      "embedding (Embedding)        (None, 120, 16)           16000     \n",
      "_________________________________________________________________\n",
      "bidirectional (Bidirectional (None, 64)                12544     \n",
      "_________________________________________________________________\n",
      "dense (Dense)                (None, 24)                1560      \n",
      "_________________________________________________________________\n",
      "dense_1 (Dense)              (None, 1)                 25        \n",
      "=================================================================\n",
      "Total params: 30,129\n",
      "Trainable params: 30,129\n",
      "Non-trainable params: 0\n",
      "_________________________________________________________________\n",
      "Epoch 1/50\n",
      "625/625 [==============================] - 54s 79ms/step - loss: 0.5500 - accuracy: 0.6863 - val_loss: 0.3977 - val_accuracy: 0.8149\n",
      "Epoch 2/50\n",
      "625/625 [==============================] - 54s 86ms/step - loss: 0.3527 - accuracy: 0.8380 - val_loss: 0.3783 - val_accuracy: 0.8225\n",
      "Epoch 3/50\n",
      "625/625 [==============================] - 53s 85ms/step - loss: 0.3284 - accuracy: 0.8510 - val_loss: 0.3797 - val_accuracy: 0.8308\n",
      "Epoch 4/50\n",
      "625/625 [==============================] - 47s 75ms/step - loss: 0.3045 - accuracy: 0.8627 - val_loss: 0.3770 - val_accuracy: 0.8326\n",
      "Epoch 5/50\n",
      "625/625 [==============================] - 48s 76ms/step - loss: 0.2896 - accuracy: 0.8709 - val_loss: 0.3860 - val_accuracy: 0.8258\n",
      "Epoch 6/50\n",
      "625/625 [==============================] - 78s 126ms/step - loss: 0.2872 - accuracy: 0.8723 - val_loss: 0.3763 - val_accuracy: 0.8311\n",
      "Epoch 7/50\n",
      "625/625 [==============================] - 88s 141ms/step - loss: 0.2729 - accuracy: 0.8810 - val_loss: 0.3849 - val_accuracy: 0.8343\n",
      "Epoch 8/50\n",
      "625/625 [==============================] - 85s 136ms/step - loss: 0.2753 - accuracy: 0.8796 - val_loss: 0.3840 - val_accuracy: 0.8325\n",
      "Epoch 9/50\n",
      "625/625 [==============================] - 88s 141ms/step - loss: 0.2681 - accuracy: 0.8853 - val_loss: 0.3957 - val_accuracy: 0.8275\n",
      "Epoch 10/50\n",
      "625/625 [==============================] - 87s 139ms/step - loss: 0.2575 - accuracy: 0.8887 - val_loss: 0.4052 - val_accuracy: 0.8278\n",
      "Epoch 11/50\n",
      "625/625 [==============================] - 88s 140ms/step - loss: 0.2454 - accuracy: 0.8941 - val_loss: 0.4045 - val_accuracy: 0.8249\n",
      "Epoch 12/50\n",
      "625/625 [==============================] - 85s 136ms/step - loss: 0.2422 - accuracy: 0.8995 - val_loss: 0.4063 - val_accuracy: 0.8269\n",
      "Epoch 13/50\n",
      "625/625 [==============================] - 82s 132ms/step - loss: 0.2388 - accuracy: 0.8983 - val_loss: 0.4429 - val_accuracy: 0.8238\n",
      "Epoch 14/50\n",
      "625/625 [==============================] - 77s 123ms/step - loss: 0.2259 - accuracy: 0.9038 - val_loss: 0.4269 - val_accuracy: 0.8259\n",
      "Epoch 15/50\n",
      "625/625 [==============================] - 75s 120ms/step - loss: 0.2081 - accuracy: 0.9119 - val_loss: 0.4698 - val_accuracy: 0.8205\n",
      "Epoch 18/50\n",
      "625/625 [==============================] - 43s 69ms/step - loss: 0.1933 - accuracy: 0.9213 - val_loss: 0.4870 - val_accuracy: 0.8176\n",
      "Epoch 19/50\n",
      "625/625 [==============================] - 41s 66ms/step - loss: 0.1868 - accuracy: 0.9230 - val_loss: 0.5452 - val_accuracy: 0.8129 ETA: 1s - loss: 0.1864 - accuracy - E\n",
      "Epoch 20/50\n",
      "625/625 [==============================] - 40s 65ms/step - loss: 0.1788 - accuracy: 0.9284 - val_loss: 0.5449 - val_accuracy: 0.8168\n",
      "Epoch 21/50\n",
      "625/625 [==============================] - 40s 65ms/step - loss: 0.1742 - accuracy: 0.9285 - val_loss: 0.5445 - val_accuracy: 0.8109\n",
      "Epoch 22/50\n",
      "625/625 [==============================] - 40s 64ms/step - loss: 0.1681 - accuracy: 0.9320 - val_loss: 0.5981 - val_accuracy: 0.8116\n",
      "Epoch 23/50\n",
      "625/625 [==============================] - 40s 64ms/step - loss: 0.1551 - accuracy: 0.9373 - val_loss: 0.6174 - val_accuracy: 0.8113\n",
      "Epoch 24/50\n",
      "625/625 [==============================] - 40s 64ms/step - loss: 0.1577 - accuracy: 0.9385 - val_loss: 0.6932 - val_accuracy: 0.8076\n",
      "Epoch 25/50\n",
      "625/625 [==============================] - 40s 64ms/step - loss: 0.1482 - accuracy: 0.9414 - val_loss: 0.7005 - val_accuracy: 0.8082\n",
      "Epoch 26/50\n",
      "625/625 [==============================] - 40s 64ms/step - loss: 0.1442 - accuracy: 0.9432 - val_loss: 0.6852 - val_accuracy: 0.8097\n",
      "Epoch 27/50\n",
      "625/625 [==============================] - 40s 64ms/step - loss: 0.1403 - accuracy: 0.9444 - val_loss: 0.7027 - val_accuracy: 0.8046\n",
      "Epoch 28/50\n",
      "625/625 [==============================] - 40s 64ms/step - loss: 0.1264 - accuracy: 0.9491 - val_loss: 0.8191 - val_accuracy: 0.8046\n",
      "Epoch 29/50\n",
      "625/625 [==============================] - 40s 64ms/step - loss: 0.1228 - accuracy: 0.9514 - val_loss: 0.9279 - val_accuracy: 0.8062\n",
      "Epoch 30/50\n",
      "625/625 [==============================] - 41s 65ms/step - loss: 0.1205 - accuracy: 0.9506 - val_loss: 0.9749 - val_accuracy: 0.8001\n",
      "Epoch 31/50\n",
      "625/625 [==============================] - 40s 64ms/step - loss: 0.1143 - accuracy: 0.9527 - val_loss: 0.9839 - val_accuracy: 0.7998\n",
      "Epoch 32/50\n",
      "625/625 [==============================] - 39s 63ms/step - loss: 0.1104 - accuracy: 0.9547 - val_loss: 1.0057 - val_accuracy: 0.8015\n",
      "Epoch 33/50\n",
      "625/625 [==============================] - 40s 63ms/step - loss: 0.1034 - accuracy: 0.9599 - val_loss: 0.9828 - val_accuracy: 0.7992\n",
      "Epoch 34/50\n",
      "625/625 [==============================] - 39s 63ms/step - loss: 0.1007 - accuracy: 0.9568 - val_loss: 1.0752 - val_accuracy: 0.8024\n",
      "Epoch 35/50\n",
      "625/625 [==============================] - 39s 63ms/step - loss: 0.0931 - accuracy: 0.9622 - val_loss: 1.0816 - val_accuracy: 0.8064\n",
      "Epoch 36/50\n",
      "625/625 [==============================] - 40s 64ms/step - loss: 0.0927 - accuracy: 0.9611 - val_loss: 1.1148 - val_accuracy: 0.8062\n",
      "Epoch 37/50\n",
      "625/625 [==============================] - 40s 63ms/step - loss: 0.0891 - accuracy: 0.9635 - val_loss: 1.1227 - val_accuracy: 0.8053\n",
      "Epoch 38/50\n",
      "625/625 [==============================] - 39s 63ms/step - loss: 0.0880 - accuracy: 0.9647 - val_loss: 1.1993 - val_accuracy: 0.8028\n",
      "Epoch 39/50\n",
      "625/625 [==============================] - 41s 66ms/step - loss: 0.0796 - accuracy: 0.9665 - val_loss: 1.3696 - val_accuracy: 0.7962\n",
      "Epoch 40/50\n",
      "625/625 [==============================] - 43251s 69s/step - loss: 0.0869 - accuracy: 0.9648 - val_loss: 1.2600 - val_accuracy: 0.8071\n",
      "Epoch 41/50\n",
      "625/625 [==============================] - 51s 82ms/step - loss: 0.0641 - accuracy: 0.9730 - val_loss: 1.4077 - val_accuracy: 0.8030\n",
      "Epoch 46/50\n",
      "625/625 [==============================] - 48s 77ms/step - loss: 0.0692 - accuracy: 0.9695 - val_loss: 1.5346 - val_accuracy: 0.7983\n",
      "Epoch 47/50\n",
      "625/625 [==============================] - 47s 74ms/step - loss: 0.0675 - accuracy: 0.9715 - val_loss: 1.5526 - val_accuracy: 0.7977\n",
      "Epoch 48/50\n",
      "625/625 [==============================] - 46s 73ms/step - loss: 0.0608 - accuracy: 0.9751 - val_loss: 1.5920 - val_accuracy: 0.8024\n",
      "Epoch 49/50\n",
      "625/625 [==============================] - 53s 85ms/step - loss: 0.0532 - accuracy: 0.9771 - val_loss: 1.7213 - val_accuracy: 0.8004\n",
      "Epoch 50/50\n",
      "625/625 [==============================] - 48s 77ms/step - loss: 0.0590 - accuracy: 0.9744 - val_loss: 1.6275 - val_accuracy: 0.8025\n"
     ]
    }
   ],
   "source": [
    "sentences = []\n",
    "labels = []\n",
    "urls = []\n",
    "for item in datastore:\n",
    "    sentences.append(item['headline'])\n",
    "    labels.append(item['is_sarcastic'])\n",
    "\n",
    "training_sentences = sentences[0:training_size]\n",
    "testing_sentences = sentences[training_size:]\n",
    "training_labels = labels[0:training_size]\n",
    "testing_labels = labels[training_size:]\n",
    "\n",
    "tokenizer = Tokenizer(num_words=vocab_size, oov_token=oov_tok)\n",
    "tokenizer.fit_on_texts(training_sentences)\n",
    "\n",
    "word_index = tokenizer.word_index\n",
    "\n",
    "training_sequences = tokenizer.texts_to_sequences(training_sentences)\n",
    "training_padded = pad_sequences(training_sequences, maxlen=max_length, padding=padding_type, truncating=trunc_type)\n",
    "\n",
    "testing_sequences = tokenizer.texts_to_sequences(testing_sentences)\n",
    "testing_padded = pad_sequences(testing_sequences, maxlen=max_length, padding=padding_type, truncating=trunc_type)\n",
    "\n",
    "model = tf.keras.Sequential([\n",
    "    tf.keras.layers.Embedding(vocab_size, embedding_dim, input_length=max_length),\n",
    "    tf.keras.layers.Bidirectional(tf.keras.layers.LSTM(32)),\n",
    "    tf.keras.layers.Dense(24, activation='relu'),\n",
    "    tf.keras.layers.Dense(1, activation='sigmoid')\n",
    "])\n",
    "model.compile(loss='binary_crossentropy',optimizer='adam',metrics=['accuracy'])\n",
    "model.summary()\n",
    "\n",
    "num_epochs = 50\n",
    "training_padded = np.array(training_padded)\n",
    "training_labels = np.array(training_labels)\n",
    "testing_padded = np.array(testing_padded)\n",
    "testing_labels = np.array(testing_labels)\n",
    "history = model.fit(training_padded, training_labels, epochs=num_epochs, validation_data=(testing_padded, testing_labels), verbose=1)"
   ]
  },
  {
   "cell_type": "code",
   "execution_count": null,
   "metadata": {},
   "outputs": [],
   "source": [
    "import matplotlib.pyplot as plt\n",
    "\n",
    "\n",
    "def plot_graphs(history, string):\n",
    "  plt.plot(history.history[string])\n",
    "  plt.plot(history.history['val_'+string])\n",
    "  plt.xlabel(\"Epochs\")\n",
    "  plt.ylabel(string)\n",
    "  plt.legend([string, 'val_'+string])\n",
    "  plt.show()\n",
    "\n",
    "plot_graphs(history, 'accuracy')\n",
    "plot_graphs(history, 'loss')"
   ]
  },
  {
   "cell_type": "code",
   "execution_count": null,
   "metadata": {},
   "outputs": [],
   "source": [
    "model.save(\"test.h5\")"
   ]
  }
 ],
 "metadata": {
  "kernelspec": {
   "display_name": "Python 3",
   "language": "python",
   "name": "python3"
  },
  "language_info": {
   "codemirror_mode": {
    "name": "ipython",
    "version": 3
   },
   "file_extension": ".py",
   "mimetype": "text/x-python",
   "name": "python",
   "nbconvert_exporter": "python",
   "pygments_lexer": "ipython3",
   "version": "3.8.5"
  }
 },
 "nbformat": 4,
 "nbformat_minor": 2
}
