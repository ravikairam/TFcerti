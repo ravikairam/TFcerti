{
 "cells": [
  {
   "cell_type": "markdown",
   "metadata": {},
   "source": [
    "It's similar to the previous models that you have used, but I have updated the layers definition. Note that there are now 4 convolutional layers with 32, 64, 128 and 128 convolutions respectively.\n",
    "\n",
    "Also, this will train for 100 epochs, because I want to plot the graph of loss and accuracy."
   ]
  },
  {
   "cell_type": "code",
   "execution_count": 2,
   "metadata": {},
   "outputs": [
    {
     "name": "stdout",
     "output_type": "stream",
     "text": [
      "Requirement already satisfied: wget in c:\\users\\user\\anaconda3\\lib\\site-packages (3.2)\n"
     ]
    }
   ],
   "source": [
    "!pip install wget"
   ]
  },
  {
   "cell_type": "code",
   "execution_count": 3,
   "metadata": {},
   "outputs": [],
   "source": [
    "import wget"
   ]
  },
  {
   "cell_type": "code",
   "execution_count": 6,
   "metadata": {},
   "outputs": [
    {
     "data": {
      "text/plain": [
       "'\\n!wget --no-check-certificate     https://storage.googleapis.com/mledu-datasets/cats_and_dogs_filtered.zip     -O /tmp/cats_and_dogs_filtered.zip\\n'"
      ]
     },
     "execution_count": 6,
     "metadata": {},
     "output_type": "execute_result"
    }
   ],
   "source": [
    "\"\"\"\n",
    "!wget --no-check-certificate \\\n",
    "    https://storage.googleapis.com/mledu-datasets/cats_and_dogs_filtered.zip \\\n",
    "    -O /tmp/cats_and_dogs_filtered.zip\n",
    "\"\"\""
   ]
  },
  {
   "cell_type": "code",
   "execution_count": 5,
   "metadata": {},
   "outputs": [
    {
     "name": "stderr",
     "output_type": "stream",
     "text": [
      "  % Total    % Received % Xferd  Average Speed   Time    Time     Time  Current\n",
      "                                 Dload  Upload   Total   Spent    Left  Speed\n",
      "\n",
      "  0     0    0     0    0     0      0      0 --:--:-- --:--:-- --:--:--     0\n",
      "  3 65.4M    3 2366k    0     0  2402k      0  0:00:27 --:--:--  0:00:27 2402k\n",
      " 11 65.4M   11 7438k    0     0  3747k      0  0:00:17  0:00:01  0:00:16 3747k\n",
      " 20 65.4M   20 13.3M    0     0  4571k      0  0:00:14  0:00:02  0:00:12 4571k\n",
      " 29 65.4M   29 19.2M    0     0  4958k      0  0:00:13  0:00:03  0:00:10 4958k\n",
      " 38 65.4M   38 24.9M    0     0  5125k      0  0:00:13  0:00:04  0:00:09 5125k\n",
      " 45 65.4M   45 29.9M    0     0  5129k      0  0:00:13  0:00:05  0:00:08 5667k\n",
      " 55 65.4M   55 36.2M    0     0  5316k      0  0:00:12  0:00:06  0:00:06 5939k\n",
      " 65 65.4M   65 42.5M    0     0  5456k      0  0:00:12  0:00:07  0:00:05 5984k\n",
      " 74 65.4M   74 48.7M    0     0  5559k      0  0:00:12  0:00:08  0:00:04 6038k\n",
      " 83 65.4M   83 54.9M    0     0  5622k      0  0:00:11  0:00:10  0:00:01 6116k\n",
      " 92 65.4M   92 60.6M    0     0  5649k      0  0:00:11  0:00:10  0:00:01 6272k\n",
      "100 65.4M  100 65.4M    0     0  5709k      0  0:00:11  0:00:11 --:--:-- 6287k\n",
      "curl: (3) URL using bad/illegal format or missing URL\n"
     ]
    }
   ],
   "source": [
    "!curl https://storage.googleapis.com/mledu-datasets/cats_and_dogs_filtered.zip \\\n",
    "    -O /tmp/cats_and_dogs_filtered.zip\n",
    "  "
   ]
  },
  {
   "cell_type": "code",
   "execution_count": 7,
   "metadata": {},
   "outputs": [],
   "source": [
    "import os\n",
    "import zipfile\n",
    "import tensorflow as tf\n",
    "from tensorflow.keras.optimizers import RMSprop\n",
    "from tensorflow.keras.preprocessing.image import ImageDataGenerator"
   ]
  },
  {
   "cell_type": "code",
   "execution_count": 9,
   "metadata": {},
   "outputs": [],
   "source": [
    "local_zip = 'E:/TensorflowDeveloperCertification/Learning/cats_and_dogs_filtered.zip'\n",
    "zip_ref = zipfile.ZipFile(local_zip, 'r')\n",
    "zip_ref.extractall('E:/TensorflowDeveloperCertification/Learning')\n",
    "zip_ref.close()"
   ]
  },
  {
   "cell_type": "code",
   "execution_count": 10,
   "metadata": {},
   "outputs": [],
   "source": [
    "base_dir = 'E:/TensorflowDeveloperCertification/Learning/cats_and_dogs_filtered'\n",
    "train_dir = os.path.join(base_dir, 'train')\n",
    "validation_dir = os.path.join(base_dir, 'validation')"
   ]
  },
  {
   "cell_type": "code",
   "execution_count": 11,
   "metadata": {},
   "outputs": [],
   "source": [
    "# Directory with our training cat pictures\n",
    "train_cats_dir = os.path.join(train_dir, 'cats')\n",
    "\n",
    "# Directory with our training dog pictures\n",
    "train_dogs_dir = os.path.join(train_dir, 'dogs')"
   ]
  },
  {
   "cell_type": "code",
   "execution_count": 12,
   "metadata": {},
   "outputs": [],
   "source": [
    "model = tf.keras.models.Sequential([\n",
    "    tf.keras.layers.Conv2D(32, (3,3), activation='relu', input_shape=(150, 150, 3)),\n",
    "    tf.keras.layers.MaxPooling2D(2, 2),\n",
    "    tf.keras.layers.Conv2D(64, (3,3), activation='relu'),\n",
    "    tf.keras.layers.MaxPooling2D(2,2),\n",
    "    tf.keras.layers.Conv2D(128, (3,3), activation='relu'),\n",
    "    tf.keras.layers.MaxPooling2D(2,2),\n",
    "    tf.keras.layers.Conv2D(128, (3,3), activation='relu'),\n",
    "    tf.keras.layers.MaxPooling2D(2,2),\n",
    "    tf.keras.layers.Flatten(),\n",
    "    tf.keras.layers.Dense(512, activation='relu'),\n",
    "    tf.keras.layers.Dense(1, activation='sigmoid')\n",
    "])"
   ]
  },
  {
   "cell_type": "code",
   "execution_count": 13,
   "metadata": {},
   "outputs": [],
   "source": [
    "model.compile(loss='binary_crossentropy',\n",
    "              optimizer=RMSprop(lr=1e-4),\n",
    "              metrics=['accuracy'])\n"
   ]
  },
  {
   "cell_type": "code",
   "execution_count": 14,
   "metadata": {},
   "outputs": [],
   "source": [
    "# All images will be rescaled by 1./255\n",
    "train_datagen = ImageDataGenerator(rescale=1./255)\n",
    "test_datagen = ImageDataGenerator(rescale=1./255)"
   ]
  },
  {
   "cell_type": "code",
   "execution_count": 15,
   "metadata": {},
   "outputs": [
    {
     "name": "stdout",
     "output_type": "stream",
     "text": [
      "Found 2000 images belonging to 2 classes.\n"
     ]
    }
   ],
   "source": [
    "# Flow training images in batches of 20 using train_datagen generator\n",
    "train_generator = train_datagen.flow_from_directory(\n",
    "        train_dir,  # This is the source directory for training images\n",
    "        target_size=(150, 150),  # All images will be resized to 150x150\n",
    "        batch_size=20,\n",
    "        # Since we use binary_crossentropy loss, we need binary labels\n",
    "        class_mode='binary')"
   ]
  },
  {
   "cell_type": "code",
   "execution_count": 17,
   "metadata": {},
   "outputs": [
    {
     "name": "stdout",
     "output_type": "stream",
     "text": [
      "Found 1000 images belonging to 2 classes.\n"
     ]
    }
   ],
   "source": [
    "# Flow validation images in batches of 20 using test_datagen generator\n",
    "validation_generator = test_datagen.flow_from_directory(\n",
    "        validation_dir,\n",
    "        target_size=(150, 150),\n",
    "        batch_size=20,\n",
    "        class_mode='binary')"
   ]
  },
  {
   "cell_type": "code",
   "execution_count": 18,
   "metadata": {},
   "outputs": [
    {
     "name": "stdout",
     "output_type": "stream",
     "text": [
      "Epoch 1/100\n",
      "100/100 - 167s - loss: 0.6899 - accuracy: 0.5395 - val_loss: 0.7077 - val_accuracy: 0.5000\n",
      "Epoch 2/100\n",
      "100/100 - 135s - loss: 0.6619 - accuracy: 0.6110 - val_loss: 0.6284 - val_accuracy: 0.6520\n",
      "Epoch 3/100\n",
      "100/100 - 138s - loss: 0.6097 - accuracy: 0.6660 - val_loss: 0.5930 - val_accuracy: 0.6950\n",
      "Epoch 4/100\n",
      "100/100 - 145s - loss: 0.5695 - accuracy: 0.7080 - val_loss: 0.5831 - val_accuracy: 0.6770\n",
      "Epoch 5/100\n",
      "100/100 - 127s - loss: 0.5350 - accuracy: 0.7255 - val_loss: 0.6008 - val_accuracy: 0.6490\n",
      "Epoch 6/100\n",
      "100/100 - 120s - loss: 0.5128 - accuracy: 0.7395 - val_loss: 0.5555 - val_accuracy: 0.7200\n",
      "Epoch 7/100\n",
      "100/100 - 121s - loss: 0.4753 - accuracy: 0.7765 - val_loss: 0.5874 - val_accuracy: 0.6870\n",
      "Epoch 8/100\n",
      "100/100 - 126s - loss: 0.4543 - accuracy: 0.7850 - val_loss: 0.5508 - val_accuracy: 0.7250\n",
      "Epoch 9/100\n",
      "100/100 - 125s - loss: 0.4216 - accuracy: 0.7970 - val_loss: 0.5417 - val_accuracy: 0.7420\n",
      "Epoch 10/100\n",
      "100/100 - 123s - loss: 0.4057 - accuracy: 0.8175 - val_loss: 0.5433 - val_accuracy: 0.7310\n",
      "Epoch 11/100\n",
      "100/100 - 132s - loss: 0.3766 - accuracy: 0.8390 - val_loss: 0.5641 - val_accuracy: 0.7190\n",
      "Epoch 12/100\n",
      "100/100 - 123s - loss: 0.3599 - accuracy: 0.8440 - val_loss: 0.5368 - val_accuracy: 0.7390\n",
      "Epoch 13/100\n",
      "100/100 - 123s - loss: 0.3334 - accuracy: 0.8620 - val_loss: 0.5459 - val_accuracy: 0.7470\n",
      "Epoch 14/100\n",
      "100/100 - 121s - loss: 0.3166 - accuracy: 0.8625 - val_loss: 0.5515 - val_accuracy: 0.7470\n",
      "Epoch 15/100\n",
      "100/100 - 121s - loss: 0.2997 - accuracy: 0.8825 - val_loss: 0.5828 - val_accuracy: 0.7400\n",
      "Epoch 16/100\n",
      "100/100 - 123s - loss: 0.2660 - accuracy: 0.8890 - val_loss: 0.5923 - val_accuracy: 0.7330\n",
      "Epoch 17/100\n",
      "100/100 - 130s - loss: 0.2440 - accuracy: 0.9015 - val_loss: 0.5664 - val_accuracy: 0.7520\n",
      "Epoch 18/100\n",
      "100/100 - 121s - loss: 0.2265 - accuracy: 0.9120 - val_loss: 0.6031 - val_accuracy: 0.7380\n",
      "Epoch 19/100\n",
      "100/100 - 122s - loss: 0.2119 - accuracy: 0.9150 - val_loss: 0.5977 - val_accuracy: 0.7410\n",
      "Epoch 20/100\n",
      "100/100 - 121s - loss: 0.1845 - accuracy: 0.9365 - val_loss: 0.6736 - val_accuracy: 0.7420\n",
      "Epoch 21/100\n",
      "100/100 - 122s - loss: 0.1682 - accuracy: 0.9395 - val_loss: 0.6212 - val_accuracy: 0.7540\n",
      "Epoch 22/100\n",
      "100/100 - 121s - loss: 0.1395 - accuracy: 0.9530 - val_loss: 0.7353 - val_accuracy: 0.7380\n",
      "Epoch 23/100\n",
      "100/100 - 121s - loss: 0.1304 - accuracy: 0.9575 - val_loss: 0.6811 - val_accuracy: 0.7430\n",
      "Epoch 24/100\n",
      "100/100 - 121s - loss: 0.1169 - accuracy: 0.9620 - val_loss: 0.6991 - val_accuracy: 0.7420\n",
      "Epoch 25/100\n",
      "100/100 - 120s - loss: 0.0929 - accuracy: 0.9705 - val_loss: 0.7442 - val_accuracy: 0.7570\n",
      "Epoch 26/100\n",
      "100/100 - 122s - loss: 0.0907 - accuracy: 0.9670 - val_loss: 0.8603 - val_accuracy: 0.7180\n",
      "Epoch 27/100\n",
      "100/100 - 121s - loss: 0.0758 - accuracy: 0.9760 - val_loss: 0.8014 - val_accuracy: 0.7330\n",
      "Epoch 28/100\n",
      "100/100 - 120s - loss: 0.0605 - accuracy: 0.9840 - val_loss: 0.8098 - val_accuracy: 0.7560\n",
      "Epoch 29/100\n",
      "100/100 - 122s - loss: 0.0555 - accuracy: 0.9850 - val_loss: 1.2735 - val_accuracy: 0.6920\n",
      "Epoch 30/100\n",
      "100/100 - 121s - loss: 0.0456 - accuracy: 0.9850 - val_loss: 1.1433 - val_accuracy: 0.7260\n",
      "Epoch 31/100\n",
      "100/100 - 120s - loss: 0.0464 - accuracy: 0.9870 - val_loss: 1.0268 - val_accuracy: 0.7310\n",
      "Epoch 32/100\n",
      "100/100 - 121s - loss: 0.0357 - accuracy: 0.9880 - val_loss: 1.0320 - val_accuracy: 0.7250\n",
      "Epoch 33/100\n",
      "100/100 - 120s - loss: 0.0333 - accuracy: 0.9925 - val_loss: 1.0396 - val_accuracy: 0.7320\n",
      "Epoch 34/100\n",
      "100/100 - 120s - loss: 0.0237 - accuracy: 0.9950 - val_loss: 1.4113 - val_accuracy: 0.7040\n",
      "Epoch 35/100\n",
      "100/100 - 120s - loss: 0.0219 - accuracy: 0.9955 - val_loss: 1.3624 - val_accuracy: 0.7180\n",
      "Epoch 36/100\n",
      "100/100 - 120s - loss: 0.0217 - accuracy: 0.9930 - val_loss: 1.1496 - val_accuracy: 0.7300\n",
      "Epoch 37/100\n",
      "100/100 - 121s - loss: 0.0172 - accuracy: 0.9965 - val_loss: 1.1769 - val_accuracy: 0.7180\n",
      "Epoch 38/100\n",
      "100/100 - 124s - loss: 0.0141 - accuracy: 0.9965 - val_loss: 1.2515 - val_accuracy: 0.7410\n",
      "Epoch 39/100\n",
      "100/100 - 120s - loss: 0.0127 - accuracy: 0.9970 - val_loss: 1.2324 - val_accuracy: 0.7400\n",
      "Epoch 40/100\n",
      "100/100 - 121s - loss: 0.0170 - accuracy: 0.9925 - val_loss: 1.2257 - val_accuracy: 0.7320\n",
      "Epoch 41/100\n",
      "100/100 - 124s - loss: 0.0139 - accuracy: 0.9960 - val_loss: 1.2364 - val_accuracy: 0.7300\n",
      "Epoch 42/100\n",
      "100/100 - 126s - loss: 0.0083 - accuracy: 0.9980 - val_loss: 1.3466 - val_accuracy: 0.7260\n",
      "Epoch 43/100\n",
      "100/100 - 159s - loss: 0.0121 - accuracy: 0.9965 - val_loss: 1.3550 - val_accuracy: 0.7410\n",
      "Epoch 44/100\n",
      "100/100 - 156s - loss: 0.0117 - accuracy: 0.9965 - val_loss: 2.3999 - val_accuracy: 0.6770\n",
      "Epoch 45/100\n",
      "100/100 - 143s - loss: 0.0058 - accuracy: 0.9975 - val_loss: 1.4694 - val_accuracy: 0.7320\n",
      "Epoch 46/100\n",
      "100/100 - 143s - loss: 0.0091 - accuracy: 0.9970 - val_loss: 1.4590 - val_accuracy: 0.7370\n",
      "Epoch 47/100\n",
      "100/100 - 143s - loss: 0.0129 - accuracy: 0.9965 - val_loss: 1.4730 - val_accuracy: 0.7410\n",
      "Epoch 48/100\n",
      "100/100 - 140s - loss: 0.0070 - accuracy: 0.9980 - val_loss: 1.5456 - val_accuracy: 0.7370\n",
      "Epoch 49/100\n",
      "100/100 - 120s - loss: 0.0202 - accuracy: 0.9940 - val_loss: 1.6290 - val_accuracy: 0.7300\n",
      "Epoch 50/100\n",
      "100/100 - 121s - loss: 0.0080 - accuracy: 0.9965 - val_loss: 1.6667 - val_accuracy: 0.7370\n",
      "Epoch 51/100\n",
      "100/100 - 119s - loss: 0.0038 - accuracy: 0.9990 - val_loss: 1.6403 - val_accuracy: 0.7330\n",
      "Epoch 52/100\n",
      "100/100 - 120s - loss: 0.0094 - accuracy: 0.9960 - val_loss: 1.6895 - val_accuracy: 0.7320\n",
      "Epoch 53/100\n",
      "100/100 - 120s - loss: 0.0021 - accuracy: 0.9995 - val_loss: 1.9543 - val_accuracy: 0.7240\n",
      "Epoch 54/100\n",
      "100/100 - 120s - loss: 0.0137 - accuracy: 0.9955 - val_loss: 1.7967 - val_accuracy: 0.7370\n",
      "Epoch 55/100\n",
      "100/100 - 120s - loss: 0.0039 - accuracy: 0.9985 - val_loss: 1.6967 - val_accuracy: 0.7280\n",
      "Epoch 56/100\n",
      "100/100 - 120s - loss: 0.0086 - accuracy: 0.9970 - val_loss: 1.8011 - val_accuracy: 0.7280\n",
      "Epoch 57/100\n",
      "100/100 - 120s - loss: 0.0135 - accuracy: 0.9970 - val_loss: 1.7506 - val_accuracy: 0.7400\n",
      "Epoch 58/100\n",
      "100/100 - 1047s - loss: 0.0060 - accuracy: 0.9980 - val_loss: 1.8290 - val_accuracy: 0.7320\n",
      "Epoch 59/100\n",
      "100/100 - 127s - loss: 0.0063 - accuracy: 0.9970 - val_loss: 1.8544 - val_accuracy: 0.7300\n",
      "Epoch 60/100\n",
      "100/100 - 137s - loss: 0.0064 - accuracy: 0.9980 - val_loss: 1.8108 - val_accuracy: 0.7270\n",
      "Epoch 61/100\n",
      "100/100 - 160s - loss: 0.0057 - accuracy: 0.9980 - val_loss: 1.7967 - val_accuracy: 0.7370\n",
      "Epoch 62/100\n",
      "100/100 - 156s - loss: 0.0096 - accuracy: 0.9980 - val_loss: 1.8088 - val_accuracy: 0.7220\n",
      "Epoch 63/100\n",
      "100/100 - 160s - loss: 0.0147 - accuracy: 0.9960 - val_loss: 2.0130 - val_accuracy: 0.7380\n",
      "Epoch 64/100\n",
      "100/100 - 155s - loss: 2.1502e-04 - accuracy: 1.0000 - val_loss: 2.0595 - val_accuracy: 0.7360\n",
      "Epoch 65/100\n",
      "100/100 - 155s - loss: 0.0122 - accuracy: 0.9965 - val_loss: 1.8863 - val_accuracy: 0.7350\n",
      "Epoch 66/100\n",
      "100/100 - 155s - loss: 0.0045 - accuracy: 0.9985 - val_loss: 1.9939 - val_accuracy: 0.7230\n",
      "Epoch 67/100\n",
      "100/100 - 149s - loss: 0.0026 - accuracy: 0.9985 - val_loss: 2.0795 - val_accuracy: 0.7270\n",
      "Epoch 68/100\n",
      "100/100 - 151s - loss: 1.6060e-04 - accuracy: 1.0000 - val_loss: 2.1717 - val_accuracy: 0.7400\n",
      "Epoch 69/100\n",
      "100/100 - 3950s - loss: 0.0056 - accuracy: 0.9980 - val_loss: 2.1322 - val_accuracy: 0.7330\n",
      "Epoch 70/100\n",
      "100/100 - 153s - loss: 0.0215 - accuracy: 0.9965 - val_loss: 2.0659 - val_accuracy: 0.7460\n",
      "Epoch 71/100\n",
      "100/100 - 158s - loss: 0.0013 - accuracy: 0.9995 - val_loss: 2.6381 - val_accuracy: 0.7170\n",
      "Epoch 72/100\n",
      "100/100 - 144s - loss: 0.0038 - accuracy: 0.9990 - val_loss: 2.4663 - val_accuracy: 0.7200\n",
      "Epoch 73/100\n",
      "100/100 - 141s - loss: 2.9022e-04 - accuracy: 1.0000 - val_loss: 2.1325 - val_accuracy: 0.7320\n",
      "Epoch 74/100\n",
      "100/100 - 154s - loss: 0.0031 - accuracy: 0.9975 - val_loss: 2.1565 - val_accuracy: 0.7360\n",
      "Epoch 75/100\n",
      "100/100 - 158s - loss: 0.0044 - accuracy: 0.9985 - val_loss: 2.5536 - val_accuracy: 0.7310\n",
      "Epoch 76/100\n",
      "100/100 - 135s - loss: 0.0031 - accuracy: 0.9985 - val_loss: 2.2490 - val_accuracy: 0.7290\n",
      "Epoch 77/100\n",
      "100/100 - 142s - loss: 0.0041 - accuracy: 0.9990 - val_loss: 2.3292 - val_accuracy: 0.7300\n",
      "Epoch 78/100\n",
      "100/100 - 157s - loss: 0.0074 - accuracy: 0.9985 - val_loss: 2.2025 - val_accuracy: 0.7320\n",
      "Epoch 79/100\n",
      "100/100 - 158s - loss: 5.7032e-05 - accuracy: 1.0000 - val_loss: 2.2644 - val_accuracy: 0.7360\n"
     ]
    },
    {
     "name": "stdout",
     "output_type": "stream",
     "text": [
      "Epoch 80/100\n",
      "100/100 - 153s - loss: 5.6345e-04 - accuracy: 1.0000 - val_loss: 2.1944 - val_accuracy: 0.7390\n",
      "Epoch 81/100\n",
      "100/100 - 138s - loss: 0.0025 - accuracy: 0.9990 - val_loss: 2.2571 - val_accuracy: 0.7370\n",
      "Epoch 82/100\n",
      "100/100 - 142s - loss: 0.0018 - accuracy: 0.9995 - val_loss: 2.2376 - val_accuracy: 0.7310\n",
      "Epoch 83/100\n",
      "100/100 - 150s - loss: 0.0011 - accuracy: 0.9995 - val_loss: 2.3541 - val_accuracy: 0.7370\n",
      "Epoch 84/100\n",
      "100/100 - 154s - loss: 0.0094 - accuracy: 0.9965 - val_loss: 2.3920 - val_accuracy: 0.7220\n",
      "Epoch 85/100\n",
      "100/100 - 147s - loss: 0.0098 - accuracy: 0.9980 - val_loss: 2.2784 - val_accuracy: 0.7440\n",
      "Epoch 86/100\n",
      "100/100 - 138s - loss: 3.5800e-05 - accuracy: 1.0000 - val_loss: 2.3828 - val_accuracy: 0.7390\n",
      "Epoch 87/100\n",
      "100/100 - 129s - loss: 0.0241 - accuracy: 0.9960 - val_loss: 2.3343 - val_accuracy: 0.7450\n",
      "Epoch 88/100\n",
      "100/100 - 145s - loss: 0.0020 - accuracy: 0.9990 - val_loss: 2.4341 - val_accuracy: 0.7520\n",
      "Epoch 89/100\n",
      "100/100 - 131s - loss: 1.7437e-05 - accuracy: 1.0000 - val_loss: 2.4177 - val_accuracy: 0.7430\n",
      "Epoch 90/100\n",
      "100/100 - 138s - loss: 0.0076 - accuracy: 0.9975 - val_loss: 2.5602 - val_accuracy: 0.7310\n",
      "Epoch 91/100\n",
      "100/100 - 126s - loss: 0.0020 - accuracy: 0.9995 - val_loss: 2.3049 - val_accuracy: 0.7290\n",
      "Epoch 92/100\n",
      "100/100 - 129s - loss: 3.3347e-04 - accuracy: 1.0000 - val_loss: 2.4997 - val_accuracy: 0.7350\n",
      "Epoch 93/100\n",
      "100/100 - 123s - loss: 0.0080 - accuracy: 0.9980 - val_loss: 2.5028 - val_accuracy: 0.7340\n",
      "Epoch 94/100\n",
      "100/100 - 123s - loss: 0.0012 - accuracy: 0.9995 - val_loss: 2.6098 - val_accuracy: 0.7100\n",
      "Epoch 95/100\n",
      "100/100 - 121s - loss: 1.0403e-05 - accuracy: 1.0000 - val_loss: 2.5663 - val_accuracy: 0.7290\n",
      "Epoch 96/100\n",
      "100/100 - 129s - loss: 0.0095 - accuracy: 0.9970 - val_loss: 2.5042 - val_accuracy: 0.7280\n",
      "Epoch 97/100\n",
      "100/100 - 138s - loss: 0.0067 - accuracy: 0.9985 - val_loss: 2.5156 - val_accuracy: 0.7390\n",
      "Epoch 98/100\n",
      "100/100 - 136s - loss: 1.5370e-05 - accuracy: 1.0000 - val_loss: 3.0576 - val_accuracy: 0.7220\n",
      "Epoch 99/100\n",
      "100/100 - 135s - loss: 0.0038 - accuracy: 0.9990 - val_loss: 2.5845 - val_accuracy: 0.7430\n",
      "Epoch 100/100\n",
      "100/100 - 128s - loss: 0.0059 - accuracy: 0.9985 - val_loss: 2.4664 - val_accuracy: 0.7320\n"
     ]
    }
   ],
   "source": [
    "history = model.fit(\n",
    "      train_generator,\n",
    "      steps_per_epoch=100,  # 2000 images = batch_size * steps\n",
    "      epochs=100,\n",
    "      validation_data=validation_generator,\n",
    "      validation_steps=50,  # 1000 images = batch_size * steps\n",
    "      verbose=2)"
   ]
  },
  {
   "cell_type": "code",
   "execution_count": 20,
   "metadata": {},
   "outputs": [
    {
     "data": {
      "image/png": "[encoded data removed]",
      "text/plain": [
       "<Figure size 432x288 with 1 Axes>"
      ]
     },
     "metadata": {
      "needs_background": "light"
     },
     "output_type": "display_data"
    },
    {
     "data": {
      "image/png": "[encoded data removed]",
      "text/plain": [
       "<Figure size 432x288 with 1 Axes>"
      ]
     },
     "metadata": {
      "needs_background": "light"
     },
     "output_type": "display_data"
    }
   ],
   "source": [
    "import matplotlib.pyplot as plt\n",
    "acc = history.history['accuracy']\n",
    "val_acc = history.history['val_accuracy']\n",
    "loss = history.history['loss']\n",
    "val_loss = history.history['val_loss']\n",
    "\n",
    "epochs = range(len(acc))\n",
    "\n",
    "plt.plot(epochs, acc, 'bo', label='Training accuracy')\n",
    "plt.plot(epochs, val_acc, 'b', label='Validation accuracy')\n",
    "plt.title('Training and validation accuracy')\n",
    "\n",
    "plt.figure()\n",
    "\n",
    "plt.plot(epochs, loss, 'bo', label='Training Loss')\n",
    "plt.plot(epochs, val_loss, 'b', label='Validation Loss')\n",
    "plt.title('Training and validation loss')\n",
    "plt.legend()\n",
    "\n",
    "plt.show()"
   ]
  },
  {
   "cell_type": "markdown",
   "metadata": {},
   "source": [
    "The Training Accuracy is close to 100%, and the validation accuracy is in the 70%-80% range. This is a great example of overfitting -- which in short means that it can do very well with images it has seen before, but not so well with images it hasn't. Let's see if we can do better to avoid overfitting -- and one simple method is to augment the images a bit. If you think about it, most pictures of a cat are very similar -- the ears are at the top, then the eyes, then the mouth etc. Things like the distance between the eyes and ears will always be quite similar too.\n",
    "\n",
    "What if we tweak with the images to change this up a bit -- rotate the image, squash it, etc. That's what image augementation is all about. And there's an API that makes it easy...\n",
    "\n",
    "Now take a look at the ImageGenerator. There are properties on it that you can use to augment the image."
   ]
  },
  {
   "cell_type": "code",
   "execution_count": 21,
   "metadata": {},
   "outputs": [],
   "source": [
    "# Updated to do image augmentation\n",
    "train_datagen = ImageDataGenerator(\n",
    "      rotation_range=40,\n",
    "      width_shift_range=0.2,\n",
    "      height_shift_range=0.2,\n",
    "      shear_range=0.2,\n",
    "      zoom_range=0.2,\n",
    "      horizontal_flip=True,\n",
    "      fill_mode='nearest')"
   ]
  },
  {
   "cell_type": "raw",
   "metadata": {},
   "source": [
    "These are just a few of the options available (for more, see the Keras documentation. Let's quickly go over what we just wrote:\n",
    "\n",
    "rotation_range is a value in degrees (0–180), a range within which to randomly rotate pictures.\n",
    "width_shift and height_shift are ranges (as a fraction of total width or height) within which to randomly translate pictures vertically or horizontally.\n",
    "shear_range is for randomly applying shearing transformations.\n",
    "zoom_range is for randomly zooming inside pictures.\n",
    "horizontal_flip is for randomly flipping half of the images horizontally. This is relevant when there are no assumptions of horizontal assymmetry (e.g. real-world pictures).\n",
    "fill_mode is the strategy used for filling in newly created pixels, which can appear after a rotation or a width/height shift.\n",
    "Here's some code where we've added Image Augmentation. Run it to see the impact."
   ]
  },
  {
   "cell_type": "code",
   "execution_count": null,
   "metadata": {},
   "outputs": [],
   "source": [
    "\"\"\"\n",
    "!wget --no-check-certificate \\\n",
    "    https://storage.googleapis.com/mledu-datasets/cats_and_dogs_filtered.zip \\\n",
    "    -O /tmp/cats_and_dogs_filtered.zip\n",
    "\"\"\""
   ]
  },
  {
   "cell_type": "code",
   "execution_count": 29,
   "metadata": {},
   "outputs": [],
   "source": [
    "import os\n",
    "import zipfile\n",
    "import tensorflow as tf\n",
    "from tensorflow.keras.optimizers import RMSprop\n",
    "from tensorflow.keras.preprocessing.image import ImageDataGenerator\n",
    "\n",
    "local_zip = 'E:/TensorflowDeveloperCertification/Learning/cats_and_dogs_filtered.zip'\n",
    "zip_ref = zipfile.ZipFile(local_zip, 'r')\n",
    "zip_ref.extractall('E:/TensorflowDeveloperCertification/Learning')\n",
    "zip_ref.close()\n",
    "\n",
    "base_dir = 'E:/TensorflowDeveloperCertification/Learning/cats_and_dogs_filtered'\n",
    "train_dir = os.path.join(base_dir, 'train')\n",
    "validation_dir = os.path.join(base_dir, 'validation')\n",
    "\n",
    "# Directory with our training cat pictures\n",
    "train_cats_dir = os.path.join(train_dir, 'cats')\n",
    "\n",
    "# Directory with our training dog pictures\n",
    "train_dogs_dir = os.path.join(train_dir, 'dogs')\n",
    "\n",
    "# Directory with our validation cat pictures\n",
    "validation_cats_dir = os.path.join(validation_dir, 'cats')\n",
    "\n",
    "# Directory with our validation dog pictures\n",
    "validation_dogs_dir = os.path.join(validation_dir, 'dogs')"
   ]
  },
  {
   "cell_type": "code",
   "execution_count": 30,
   "metadata": {},
   "outputs": [],
   "source": [
    "model = tf.keras.models.Sequential([\n",
    "    tf.keras.layers.Conv2D(32, (3,3), activation='relu', input_shape=(150, 150, 3)),\n",
    "    tf.keras.layers.MaxPooling2D(2, 2),\n",
    "    tf.keras.layers.Conv2D(64, (3,3), activation='relu'),\n",
    "    tf.keras.layers.MaxPooling2D(2,2),\n",
    "    tf.keras.layers.Conv2D(128, (3,3), activation='relu'),\n",
    "    tf.keras.layers.MaxPooling2D(2,2),\n",
    "    tf.keras.layers.Conv2D(128, (3,3), activation='relu'),\n",
    "    tf.keras.layers.MaxPooling2D(2,2),\n",
    "    tf.keras.layers.Flatten(),\n",
    "    tf.keras.layers.Dense(512, activation='relu'),\n",
    "    tf.keras.layers.Dense(1, activation='sigmoid')\n",
    "])\n",
    "\n",
    "model.compile(loss='binary_crossentropy',\n",
    "              optimizer=RMSprop(lr=1e-4),\n",
    "              metrics=['accuracy'])"
   ]
  },
  {
   "cell_type": "code",
   "execution_count": 31,
   "metadata": {},
   "outputs": [],
   "source": [
    "# This code has changed. Now instead of the ImageGenerator just rescaling\n",
    "# the image, we also rotate and do other operations\n",
    "# Updated to do image augmentation\n",
    "train_datagen = ImageDataGenerator(\n",
    "      rescale=1./255,\n",
    "      rotation_range=40,\n",
    "      width_shift_range=0.2,\n",
    "      height_shift_range=0.2,\n",
    "      shear_range=0.2,\n",
    "      zoom_range=0.2,\n",
    "      horizontal_flip=True,\n",
    "      fill_mode='nearest')\n",
    "\n",
    "test_datagen = ImageDataGenerator(rescale=1./255)"
   ]
  },
  {
   "cell_type": "code",
   "execution_count": 32,
   "metadata": {},
   "outputs": [
    {
     "name": "stdout",
     "output_type": "stream",
     "text": [
      "Found 2000 images belonging to 2 classes.\n",
      "Found 1000 images belonging to 2 classes.\n"
     ]
    }
   ],
   "source": [
    "# Flow training images in batches of 20 using train_datagen generator\n",
    "train_generator = train_datagen.flow_from_directory(\n",
    "        train_dir,  # This is the source directory for training images\n",
    "        target_size=(150, 150),  # All images will be resized to 150x150\n",
    "        batch_size=20,\n",
    "        # Since we use binary_crossentropy loss, we need binary labels\n",
    "        class_mode='binary')\n",
    "\n",
    "# Flow validation images in batches of 20 using test_datagen generator\n",
    "validation_generator = test_datagen.flow_from_directory(\n",
    "        validation_dir,\n",
    "        target_size=(150, 150),\n",
    "        batch_size=20,\n",
    "        class_mode='binary')"
   ]
  },
  {
   "cell_type": "code",
   "execution_count": 33,
   "metadata": {},
   "outputs": [
    {
     "name": "stdout",
     "output_type": "stream",
     "text": [
      "Epoch 1/100\n",
      "100/100 - 142s - loss: 0.6900 - accuracy: 0.5435 - val_loss: 0.6828 - val_accuracy: 0.5090\n",
      "Epoch 2/100\n",
      "100/100 - 146s - loss: 0.6746 - accuracy: 0.5645 - val_loss: 0.6456 - val_accuracy: 0.6200\n",
      "Epoch 3/100\n",
      "100/100 - 149s - loss: 0.6624 - accuracy: 0.5940 - val_loss: 0.6294 - val_accuracy: 0.6210\n",
      "Epoch 4/100\n",
      "100/100 - 149s - loss: 0.6291 - accuracy: 0.6360 - val_loss: 0.5912 - val_accuracy: 0.6770\n",
      "Epoch 5/100\n",
      "100/100 - 146s - loss: 0.6239 - accuracy: 0.6330 - val_loss: 0.5881 - val_accuracy: 0.6560\n",
      "Epoch 6/100\n",
      "100/100 - 155s - loss: 0.6167 - accuracy: 0.6490 - val_loss: 0.5789 - val_accuracy: 0.6980\n",
      "Epoch 7/100\n",
      "100/100 - 153s - loss: 0.5963 - accuracy: 0.6785 - val_loss: 0.5793 - val_accuracy: 0.6890\n",
      "Epoch 8/100\n",
      "100/100 - 144s - loss: 0.5862 - accuracy: 0.6935 - val_loss: 0.5586 - val_accuracy: 0.6970\n",
      "Epoch 9/100\n",
      "100/100 - 149s - loss: 0.5822 - accuracy: 0.6755 - val_loss: 0.5662 - val_accuracy: 0.7120\n",
      "Epoch 10/100\n",
      "100/100 - 145s - loss: 0.5777 - accuracy: 0.6925 - val_loss: 0.5401 - val_accuracy: 0.7300\n",
      "Epoch 11/100\n",
      "100/100 - 143s - loss: 0.5712 - accuracy: 0.6860 - val_loss: 0.5420 - val_accuracy: 0.7260\n",
      "Epoch 12/100\n",
      "100/100 - 153s - loss: 0.5654 - accuracy: 0.7070 - val_loss: 0.5419 - val_accuracy: 0.7190\n",
      "Epoch 13/100\n",
      "100/100 - 154s - loss: 0.5556 - accuracy: 0.7185 - val_loss: 0.5480 - val_accuracy: 0.7130\n",
      "Epoch 14/100\n",
      "100/100 - 151s - loss: 0.5485 - accuracy: 0.7170 - val_loss: 0.5214 - val_accuracy: 0.7280\n",
      "Epoch 15/100\n",
      "100/100 - 153s - loss: 0.5533 - accuracy: 0.7140 - val_loss: 0.5229 - val_accuracy: 0.7310\n",
      "Epoch 16/100\n",
      "100/100 - 150s - loss: 0.5424 - accuracy: 0.7275 - val_loss: 0.5223 - val_accuracy: 0.7420\n",
      "Epoch 17/100\n",
      "100/100 - 156s - loss: 0.5323 - accuracy: 0.7265 - val_loss: 0.5892 - val_accuracy: 0.6870\n",
      "Epoch 18/100\n",
      "100/100 - 146s - loss: 0.5491 - accuracy: 0.7105 - val_loss: 0.5190 - val_accuracy: 0.7410\n",
      "Epoch 19/100\n",
      "100/100 - 150s - loss: 0.5325 - accuracy: 0.7405 - val_loss: 0.6200 - val_accuracy: 0.6790\n",
      "Epoch 20/100\n",
      "100/100 - 145s - loss: 0.5142 - accuracy: 0.7415 - val_loss: 0.5170 - val_accuracy: 0.7440\n",
      "Epoch 21/100\n",
      "100/100 - 153s - loss: 0.5190 - accuracy: 0.7420 - val_loss: 0.4903 - val_accuracy: 0.7490\n",
      "Epoch 22/100\n",
      "100/100 - 158s - loss: 0.5317 - accuracy: 0.7315 - val_loss: 0.5096 - val_accuracy: 0.7430\n",
      "Epoch 23/100\n",
      "100/100 - 154s - loss: 0.5126 - accuracy: 0.7445 - val_loss: 0.4807 - val_accuracy: 0.7570\n",
      "Epoch 24/100\n",
      "100/100 - 153s - loss: 0.5145 - accuracy: 0.7345 - val_loss: 0.4985 - val_accuracy: 0.7540\n",
      "Epoch 25/100\n",
      "100/100 - 149s - loss: 0.5190 - accuracy: 0.7340 - val_loss: 0.4968 - val_accuracy: 0.7530\n",
      "Epoch 26/100\n",
      "100/100 - 156s - loss: 0.5050 - accuracy: 0.7535 - val_loss: 0.4946 - val_accuracy: 0.7550\n",
      "Epoch 27/100\n",
      "100/100 - 161s - loss: 0.5037 - accuracy: 0.7620 - val_loss: 0.4664 - val_accuracy: 0.7690\n",
      "Epoch 28/100\n",
      "100/100 - 160s - loss: 0.5080 - accuracy: 0.7420 - val_loss: 0.5018 - val_accuracy: 0.7560\n",
      "Epoch 29/100\n",
      "100/100 - 164s - loss: 0.5027 - accuracy: 0.7565 - val_loss: 0.4993 - val_accuracy: 0.7560\n",
      "Epoch 30/100\n",
      "100/100 - 147s - loss: 0.4922 - accuracy: 0.7575 - val_loss: 0.4715 - val_accuracy: 0.7690\n",
      "Epoch 31/100\n",
      "100/100 - 154s - loss: 0.4856 - accuracy: 0.7615 - val_loss: 0.4774 - val_accuracy: 0.7520\n",
      "Epoch 32/100\n",
      "100/100 - 145s - loss: 0.4863 - accuracy: 0.7615 - val_loss: 0.4818 - val_accuracy: 0.7750\n",
      "Epoch 33/100\n",
      "100/100 - 135s - loss: 0.4730 - accuracy: 0.7695 - val_loss: 0.5065 - val_accuracy: 0.7530\n",
      "Epoch 34/100\n",
      "100/100 - 133s - loss: 0.4821 - accuracy: 0.7675 - val_loss: 0.5148 - val_accuracy: 0.7360\n",
      "Epoch 35/100\n",
      "100/100 - 139s - loss: 0.4859 - accuracy: 0.7665 - val_loss: 0.4897 - val_accuracy: 0.7680\n",
      "Epoch 36/100\n",
      "100/100 - 133s - loss: 0.4796 - accuracy: 0.7685 - val_loss: 0.5571 - val_accuracy: 0.7250\n",
      "Epoch 37/100\n",
      "100/100 - 134s - loss: 0.4730 - accuracy: 0.7720 - val_loss: 0.5056 - val_accuracy: 0.7410\n",
      "Epoch 38/100\n",
      "100/100 - 133s - loss: 0.4803 - accuracy: 0.7570 - val_loss: 0.5237 - val_accuracy: 0.7250\n",
      "Epoch 39/100\n",
      "100/100 - 132s - loss: 0.4731 - accuracy: 0.7700 - val_loss: 0.4537 - val_accuracy: 0.7700\n",
      "Epoch 40/100\n",
      "100/100 - 133s - loss: 0.4710 - accuracy: 0.7805 - val_loss: 0.4827 - val_accuracy: 0.7540\n",
      "Epoch 41/100\n",
      "100/100 - 160s - loss: 0.4559 - accuracy: 0.7865 - val_loss: 0.4749 - val_accuracy: 0.7560\n",
      "Epoch 42/100\n",
      "100/100 - 154s - loss: 0.4626 - accuracy: 0.7710 - val_loss: 0.4736 - val_accuracy: 0.7580\n",
      "Epoch 43/100\n",
      "100/100 - 157s - loss: 0.4540 - accuracy: 0.7765 - val_loss: 0.5571 - val_accuracy: 0.7200\n",
      "Epoch 44/100\n",
      "100/100 - 160s - loss: 0.4525 - accuracy: 0.7870 - val_loss: 0.4662 - val_accuracy: 0.7750\n",
      "Epoch 45/100\n",
      "100/100 - 151s - loss: 0.4587 - accuracy: 0.7890 - val_loss: 0.4667 - val_accuracy: 0.7740\n",
      "Epoch 46/100\n",
      "100/100 - 165s - loss: 0.4552 - accuracy: 0.7760 - val_loss: 0.4836 - val_accuracy: 0.7640\n",
      "Epoch 47/100\n",
      "100/100 - 161s - loss: 0.4434 - accuracy: 0.7955 - val_loss: 0.4500 - val_accuracy: 0.7850\n",
      "Epoch 48/100\n",
      "100/100 - 159s - loss: 0.4419 - accuracy: 0.7885 - val_loss: 0.4304 - val_accuracy: 0.7950\n",
      "Epoch 49/100\n",
      "100/100 - 152s - loss: 0.4330 - accuracy: 0.7985 - val_loss: 0.4770 - val_accuracy: 0.7730\n",
      "Epoch 50/100\n",
      "100/100 - 146s - loss: 0.4501 - accuracy: 0.7860 - val_loss: 0.4377 - val_accuracy: 0.7750\n",
      "Epoch 51/100\n",
      "100/100 - 134s - loss: 0.4404 - accuracy: 0.7895 - val_loss: 0.5081 - val_accuracy: 0.7520\n",
      "Epoch 52/100\n",
      "100/100 - 136s - loss: 0.4424 - accuracy: 0.7875 - val_loss: 0.4537 - val_accuracy: 0.7830\n",
      "Epoch 53/100\n",
      "100/100 - 139s - loss: 0.4439 - accuracy: 0.7920 - val_loss: 0.4331 - val_accuracy: 0.7880\n",
      "Epoch 54/100\n",
      "100/100 - 137s - loss: 0.4375 - accuracy: 0.7965 - val_loss: 0.4303 - val_accuracy: 0.7880\n",
      "Epoch 55/100\n",
      "100/100 - 134s - loss: 0.4381 - accuracy: 0.7905 - val_loss: 0.4345 - val_accuracy: 0.7880\n",
      "Epoch 56/100\n",
      "100/100 - 147s - loss: 0.4235 - accuracy: 0.8025 - val_loss: 0.4341 - val_accuracy: 0.7860\n",
      "Epoch 57/100\n",
      "100/100 - 138s - loss: 0.4294 - accuracy: 0.7990 - val_loss: 0.4303 - val_accuracy: 0.7960\n",
      "Epoch 58/100\n",
      "100/100 - 141s - loss: 0.4338 - accuracy: 0.7990 - val_loss: 0.4450 - val_accuracy: 0.7910\n",
      "Epoch 59/100\n",
      "100/100 - 136s - loss: 0.4242 - accuracy: 0.8050 - val_loss: 0.4921 - val_accuracy: 0.7580\n",
      "Epoch 60/100\n",
      "100/100 - 173s - loss: 0.4160 - accuracy: 0.8070 - val_loss: 0.4385 - val_accuracy: 0.7850\n",
      "Epoch 61/100\n",
      "100/100 - 164s - loss: 0.4101 - accuracy: 0.8080 - val_loss: 0.4615 - val_accuracy: 0.7780\n",
      "Epoch 62/100\n",
      "100/100 - 158s - loss: 0.4339 - accuracy: 0.7910 - val_loss: 0.4513 - val_accuracy: 0.7980\n",
      "Epoch 63/100\n",
      "100/100 - 162s - loss: 0.4239 - accuracy: 0.8035 - val_loss: 0.4379 - val_accuracy: 0.7820\n",
      "Epoch 64/100\n",
      "100/100 - 157s - loss: 0.4230 - accuracy: 0.8130 - val_loss: 0.4696 - val_accuracy: 0.7680\n",
      "Epoch 65/100\n",
      "100/100 - 153s - loss: 0.4047 - accuracy: 0.8105 - val_loss: 0.5236 - val_accuracy: 0.7710\n",
      "Epoch 66/100\n",
      "100/100 - 149s - loss: 0.4125 - accuracy: 0.8110 - val_loss: 0.5437 - val_accuracy: 0.7550\n",
      "Epoch 67/100\n",
      "100/100 - 146s - loss: 0.4137 - accuracy: 0.8160 - val_loss: 0.4491 - val_accuracy: 0.7870\n",
      "Epoch 68/100\n",
      "100/100 - 154s - loss: 0.4098 - accuracy: 0.8110 - val_loss: 0.4406 - val_accuracy: 0.8000\n",
      "Epoch 69/100\n",
      "100/100 - 152s - loss: 0.4080 - accuracy: 0.8125 - val_loss: 0.4658 - val_accuracy: 0.7850\n",
      "Epoch 70/100\n",
      "100/100 - 154s - loss: 0.4112 - accuracy: 0.7990 - val_loss: 0.4163 - val_accuracy: 0.8050\n",
      "Epoch 71/100\n",
      "100/100 - 160s - loss: 0.3926 - accuracy: 0.8215 - val_loss: 0.4279 - val_accuracy: 0.7920\n",
      "Epoch 72/100\n",
      "100/100 - 142s - loss: 0.4081 - accuracy: 0.8095 - val_loss: 0.4046 - val_accuracy: 0.8020\n",
      "Epoch 73/100\n",
      "100/100 - 134s - loss: 0.3935 - accuracy: 0.8255 - val_loss: 0.4352 - val_accuracy: 0.8050\n",
      "Epoch 74/100\n",
      "100/100 - 137s - loss: 0.3918 - accuracy: 0.8165 - val_loss: 0.4585 - val_accuracy: 0.7860\n",
      "Epoch 75/100\n",
      "100/100 - 133s - loss: 0.3828 - accuracy: 0.8260 - val_loss: 0.5574 - val_accuracy: 0.7570\n",
      "Epoch 76/100\n",
      "100/100 - 137s - loss: 0.3904 - accuracy: 0.8175 - val_loss: 0.4410 - val_accuracy: 0.7900\n",
      "Epoch 77/100\n",
      "100/100 - 133s - loss: 0.3847 - accuracy: 0.8170 - val_loss: 0.4420 - val_accuracy: 0.7990\n",
      "Epoch 78/100\n",
      "100/100 - 132s - loss: 0.3889 - accuracy: 0.8220 - val_loss: 0.4246 - val_accuracy: 0.8050\n",
      "Epoch 79/100\n",
      "100/100 - 133s - loss: 0.3978 - accuracy: 0.8115 - val_loss: 0.4154 - val_accuracy: 0.8040\n"
     ]
    },
    {
     "name": "stdout",
     "output_type": "stream",
     "text": [
      "Epoch 80/100\n",
      "100/100 - 133s - loss: 0.3735 - accuracy: 0.8220 - val_loss: 0.3946 - val_accuracy: 0.8210\n",
      "Epoch 81/100\n",
      "100/100 - 132s - loss: 0.3769 - accuracy: 0.8340 - val_loss: 0.4169 - val_accuracy: 0.8210\n",
      "Epoch 82/100\n",
      "100/100 - 132s - loss: 0.3695 - accuracy: 0.8325 - val_loss: 0.4007 - val_accuracy: 0.8170\n",
      "Epoch 83/100\n",
      "100/100 - 132s - loss: 0.3751 - accuracy: 0.8240 - val_loss: 0.4933 - val_accuracy: 0.7650\n",
      "Epoch 84/100\n",
      "100/100 - 133s - loss: 0.3736 - accuracy: 0.8225 - val_loss: 0.4070 - val_accuracy: 0.8010\n",
      "Epoch 85/100\n",
      "100/100 - 134s - loss: 0.3781 - accuracy: 0.8370 - val_loss: 0.4435 - val_accuracy: 0.7970\n",
      "Epoch 86/100\n",
      "100/100 - 134s - loss: 0.3808 - accuracy: 0.8355 - val_loss: 0.3969 - val_accuracy: 0.8110\n",
      "Epoch 87/100\n",
      "100/100 - 134s - loss: 0.3606 - accuracy: 0.8370 - val_loss: 0.4249 - val_accuracy: 0.8170\n",
      "Epoch 88/100\n",
      "100/100 - 134s - loss: 0.3694 - accuracy: 0.8285 - val_loss: 0.4036 - val_accuracy: 0.8110\n",
      "Epoch 89/100\n",
      "100/100 - 133s - loss: 0.3724 - accuracy: 0.8385 - val_loss: 0.4030 - val_accuracy: 0.8140\n",
      "Epoch 90/100\n",
      "100/100 - 134s - loss: 0.3667 - accuracy: 0.8390 - val_loss: 0.4498 - val_accuracy: 0.8080\n",
      "Epoch 91/100\n",
      "100/100 - 132s - loss: 0.3763 - accuracy: 0.8310 - val_loss: 0.4210 - val_accuracy: 0.8110\n",
      "Epoch 92/100\n",
      "100/100 - 132s - loss: 0.3476 - accuracy: 0.8445 - val_loss: 0.4191 - val_accuracy: 0.8130\n",
      "Epoch 93/100\n",
      "100/100 - 133s - loss: 0.3398 - accuracy: 0.8415 - val_loss: 0.4249 - val_accuracy: 0.8170\n",
      "Epoch 94/100\n",
      "100/100 - 132s - loss: 0.3614 - accuracy: 0.8330 - val_loss: 0.4100 - val_accuracy: 0.8170\n",
      "Epoch 95/100\n",
      "100/100 - 132s - loss: 0.3393 - accuracy: 0.8505 - val_loss: 0.4564 - val_accuracy: 0.8090\n",
      "Epoch 96/100\n",
      "100/100 - 133s - loss: 0.3755 - accuracy: 0.8255 - val_loss: 0.4447 - val_accuracy: 0.8010\n",
      "Epoch 97/100\n",
      "100/100 - 132s - loss: 0.3435 - accuracy: 0.8445 - val_loss: 0.4362 - val_accuracy: 0.8070\n",
      "Epoch 98/100\n",
      "100/100 - 134s - loss: 0.3407 - accuracy: 0.8480 - val_loss: 0.4458 - val_accuracy: 0.8090\n",
      "Epoch 99/100\n",
      "100/100 - 132s - loss: 0.3486 - accuracy: 0.8395 - val_loss: 0.4596 - val_accuracy: 0.8030\n",
      "Epoch 100/100\n",
      "100/100 - 133s - loss: 0.3389 - accuracy: 0.8475 - val_loss: 0.4924 - val_accuracy: 0.7660\n"
     ]
    }
   ],
   "source": [
    "history = model.fit(\n",
    "      train_generator,\n",
    "      steps_per_epoch=100,  # 2000 images = batch_size * steps\n",
    "      epochs=100,\n",
    "      validation_data=validation_generator,\n",
    "      validation_steps=50,  # 1000 images = batch_size * steps\n",
    "      verbose=2)"
   ]
  },
  {
   "cell_type": "code",
   "execution_count": 34,
   "metadata": {},
   "outputs": [
    {
     "data": {
      "image/png": "[encoded data removed]",
      "text/plain": [
       "<Figure size 432x288 with 1 Axes>"
      ]
     },
     "metadata": {
      "needs_background": "light"
     },
     "output_type": "display_data"
    },
    {
     "data": {
      "image/png": "[encoded data removed]",
      "text/plain": [
       "<Figure size 432x288 with 1 Axes>"
      ]
     },
     "metadata": {
      "needs_background": "light"
     },
     "output_type": "display_data"
    }
   ],
   "source": [
    "import matplotlib.pyplot as plt\n",
    "acc = history.history['accuracy']\n",
    "val_acc = history.history['val_accuracy']\n",
    "loss = history.history['loss']\n",
    "val_loss = history.history['val_loss']\n",
    "\n",
    "epochs = range(len(acc))\n",
    "\n",
    "plt.plot(epochs, acc, 'bo', label='Training accuracy')\n",
    "plt.plot(epochs, val_acc, 'b', label='Validation accuracy')\n",
    "plt.title('Training and validation accuracy')\n",
    "\n",
    "plt.figure()\n",
    "\n",
    "plt.plot(epochs, loss, 'bo', label='Training Loss')\n",
    "plt.plot(epochs, val_loss, 'b', label='Validation Loss')\n",
    "plt.title('Training and validation loss')\n",
    "plt.legend()\n",
    "\n",
    "plt.show()"
   ]
  },
  {
   "cell_type": "code",
   "execution_count": null,
   "metadata": {},
   "outputs": [],
   "source": []
  }
 ],
 "metadata": {
  "kernelspec": {
   "display_name": "Python 3",
   "language": "python",
   "name": "python3"
  },
  "language_info": {
   "codemirror_mode": {
    "name": "ipython",
    "version": 3
   },
   "file_extension": ".py",
   "mimetype": "text/x-python",
   "name": "python",
   "nbconvert_exporter": "python",
   "pygments_lexer": "ipython3",
   "version": "3.8.5"
  }
 },
 "nbformat": 4,
 "nbformat_minor": 2
}
