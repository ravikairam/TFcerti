{
 "cells": [
  {
   "cell_type": "code",
   "execution_count": 1,
   "metadata": {},
   "outputs": [
    {
     "name": "stdout",
     "output_type": "stream",
     "text": [
      "2.4.1\n"
     ]
    }
   ],
   "source": [
    "from __future__ import absolute_import, division, print_function, unicode_literals\n",
    "\n",
    "\n",
    "import tensorflow_datasets as tfds\n",
    "import tensorflow as tf\n",
    "print(tf.__version__)"
   ]
  },
  {
   "cell_type": "code",
   "execution_count": 2,
   "metadata": {},
   "outputs": [
    {
     "name": "stderr",
     "output_type": "stream",
     "text": [
      "WARNING:absl:TFDS datasets with text encoding are deprecated and will be removed in a future version. Instead, you should use the plain text version and tokenize the text using `tensorflow_text` (See: https://www.tensorflow.org/tutorials/tensorflow_text/intro#tfdata_example)\n"
     ]
    }
   ],
   "source": [
    "# Get the data\n",
    "dataset, info = tfds.load('imdb_reviews/subwords8k', with_info=True, as_supervised=True)\n",
    "train_dataset, test_dataset = dataset['train'], dataset['test']"
   ]
  },
  {
   "cell_type": "code",
   "execution_count": 3,
   "metadata": {},
   "outputs": [],
   "source": [
    "tokenizer = info.features['text'].encoder"
   ]
  },
  {
   "cell_type": "code",
   "execution_count": 5,
   "metadata": {},
   "outputs": [],
   "source": [
    "BUFFER_SIZE = 10000\n",
    "BATCH_SIZE = 64\n",
    "\n",
    "train_dataset = train_dataset.shuffle(BUFFER_SIZE)\n",
    "train_dataset = train_dataset.padded_batch(BATCH_SIZE, tf.compat.v1.data.get_output_shapes(train_dataset))\n",
    "test_dataset = test_dataset.padded_batch(BATCH_SIZE, tf.compat.v1.data.get_output_shapes(test_dataset))"
   ]
  },
  {
   "cell_type": "code",
   "execution_count": 6,
   "metadata": {},
   "outputs": [],
   "source": [
    "model = tf.keras.Sequential([\n",
    "    tf.keras.layers.Embedding(tokenizer.vocab_size, 64),\n",
    "    tf.keras.layers.Conv1D(128, 5, activation='relu'),\n",
    "    tf.keras.layers.GlobalAveragePooling1D(),\n",
    "    tf.keras.layers.Dense(64, activation='relu'),\n",
    "    tf.keras.layers.Dense(1, activation='sigmoid')\n",
    "])"
   ]
  },
  {
   "cell_type": "code",
   "execution_count": 7,
   "metadata": {},
   "outputs": [
    {
     "name": "stdout",
     "output_type": "stream",
     "text": [
      "Model: \"sequential\"\n",
      "_________________________________________________________________\n",
      "Layer (type)                 Output Shape              Param #   \n",
      "=================================================================\n",
      "embedding (Embedding)        (None, None, 64)          523840    \n",
      "_________________________________________________________________\n",
      "conv1d (Conv1D)              (None, None, 128)         41088     \n",
      "_________________________________________________________________\n",
      "global_average_pooling1d (Gl (None, 128)               0         \n",
      "_________________________________________________________________\n",
      "dense (Dense)                (None, 64)                8256      \n",
      "_________________________________________________________________\n",
      "dense_1 (Dense)              (None, 1)                 65        \n",
      "=================================================================\n",
      "Total params: 573,249\n",
      "Trainable params: 573,249\n",
      "Non-trainable params: 0\n",
      "_________________________________________________________________\n"
     ]
    }
   ],
   "source": [
    "model.summary()"
   ]
  },
  {
   "cell_type": "code",
   "execution_count": 8,
   "metadata": {},
   "outputs": [],
   "source": [
    "model.compile(loss='binary_crossentropy', optimizer='adam', metrics=['accuracy'])"
   ]
  },
  {
   "cell_type": "code",
   "execution_count": 9,
   "metadata": {},
   "outputs": [
    {
     "name": "stdout",
     "output_type": "stream",
     "text": [
      "Epoch 1/10\n"
     ]
    },
    {
     "name": "stdout",
     "output_type": "stream",
     "text": [
      "185/391 [=============>................] - ETA: 29:52 - loss: 0.6925 - accuracy: 0.531 - ETA: 4:36 - loss: 0.6922 - accuracy: 0.539 - ETA: 5:04 - loss: 0.6925 - accuracy: 0.53 - ETA: 5:15 - loss: 0.6931 - accuracy: 0.52 - ETA: 4:58 - loss: 0.6936 - accuracy: 0.51 - ETA: 4:43 - loss: 0.6937 - accuracy: 0.51 - ETA: 4:55 - loss: 0.6939 - accuracy: 0.51 - ETA: 4:57 - loss: 0.6940 - accuracy: 0.51 - ETA: 5:12 - loss: 0.6941 - accuracy: 0.50 - ETA: 5:20 - loss: 0.6941 - accuracy: 0.50 - ETA: 5:16 - loss: 0.6941 - accuracy: 0.50 - ETA: 5:14 - loss: 0.6941 - accuracy: 0.50 - ETA: 5:15 - loss: 0.6941 - accuracy: 0.50 - ETA: 5:21 - loss: 0.6941 - accuracy: 0.50 - ETA: 5:12 - loss: 0.6940 - accuracy: 0.50 - ETA: 5:12 - loss: 0.6940 - accuracy: 0.50 - ETA: 5:08 - loss: 0.6940 - accuracy: 0.50 - ETA: 5:07 - loss: 0.6940 - accuracy: 0.50 - ETA: 5:09 - loss: 0.6940 - accuracy: 0.50 - ETA: 5:07 - loss: 0.6939 - accuracy: 0.50 - ETA: 5:04 - loss: 0.6939 - accuracy: 0.50 - ETA: 4:57 - loss: 0.6939 - accuracy: 0.50 - ETA: 4:55 - loss: 0.6939 - accuracy: 0.50 - ETA: 4:58 - loss: 0.6939 - accuracy: 0.50 - ETA: 4:58 - loss: 0.6939 - accuracy: 0.50 - ETA: 4:58 - loss: 0.6938 - accuracy: 0.50 - ETA: 4:55 - loss: 0.6938 - accuracy: 0.50 - ETA: 5:00 - loss: 0.6938 - accuracy: 0.50 - ETA: 5:00 - loss: 0.6938 - accuracy: 0.50 - ETA: 4:59 - loss: 0.6938 - accuracy: 0.50 - ETA: 4:56 - loss: 0.6938 - accuracy: 0.50 - ETA: 4:55 - loss: 0.6938 - accuracy: 0.50 - ETA: 4:53 - loss: 0.6937 - accuracy: 0.50 - ETA: 4:49 - loss: 0.6937 - accuracy: 0.50 - ETA: 4:45 - loss: 0.6937 - accuracy: 0.50 - ETA: 4:43 - loss: 0.6937 - accuracy: 0.50 - ETA: 4:40 - loss: 0.6937 - accuracy: 0.50 - ETA: 4:43 - loss: 0.6937 - accuracy: 0.50 - ETA: 4:43 - loss: 0.6937 - accuracy: 0.50 - ETA: 4:45 - loss: 0.6937 - accuracy: 0.50 - ETA: 4:44 - loss: 0.6937 - accuracy: 0.50 - ETA: 4:42 - loss: 0.6937 - accuracy: 0.50 - ETA: 4:40 - loss: 0.6937 - accuracy: 0.50 - ETA: 4:39 - loss: 0.6937 - accuracy: 0.50 - ETA: 4:38 - loss: 0.6937 - accuracy: 0.50 - ETA: 4:36 - loss: 0.6937 - accuracy: 0.50 - ETA: 4:35 - loss: 0.6937 - accuracy: 0.50 - ETA: 4:34 - loss: 0.6936 - accuracy: 0.50 - ETA: 4:34 - loss: 0.6936 - accuracy: 0.50 - ETA: 4:33 - loss: 0.6936 - accuracy: 0.50 - ETA: 4:32 - loss: 0.6936 - accuracy: 0.50 - ETA: 4:31 - loss: 0.6936 - accuracy: 0.50 - ETA: 4:31 - loss: 0.6936 - accuracy: 0.50 - ETA: 4:29 - loss: 0.6936 - accuracy: 0.50 - ETA: 4:27 - loss: 0.6936 - accuracy: 0.50 - ETA: 4:26 - loss: 0.6936 - accuracy: 0.50 - ETA: 4:25 - loss: 0.6936 - accuracy: 0.50 - ETA: 4:22 - loss: 0.6936 - accuracy: 0.50 - ETA: 4:22 - loss: 0.6935 - accuracy: 0.50 - ETA: 4:20 - loss: 0.6935 - accuracy: 0.50 - ETA: 4:21 - loss: 0.6935 - accuracy: 0.50 - ETA: 4:23 - loss: 0.6935 - accuracy: 0.50 - ETA: 4:22 - loss: 0.6935 - accuracy: 0.50 - ETA: 4:20 - loss: 0.6935 - accuracy: 0.50 - ETA: 4:18 - loss: 0.6934 - accuracy: 0.50 - ETA: 4:17 - loss: 0.6934 - accuracy: 0.50 - ETA: 4:16 - loss: 0.6934 - accuracy: 0.50 - ETA: 4:15 - loss: 0.6934 - accuracy: 0.50 - ETA: 4:13 - loss: 0.6934 - accuracy: 0.50 - ETA: 4:12 - loss: 0.6933 - accuracy: 0.50 - ETA: 4:11 - loss: 0.6933 - accuracy: 0.50 - ETA: 4:09 - loss: 0.6933 - accuracy: 0.51 - ETA: 4:10 - loss: 0.6932 - accuracy: 0.51 - ETA: 4:09 - loss: 0.6932 - accuracy: 0.51 - ETA: 4:08 - loss: 0.6932 - accuracy: 0.51 - ETA: 4:06 - loss: 0.6931 - accuracy: 0.51 - ETA: 4:06 - loss: 0.6931 - accuracy: 0.51 - ETA: 4:05 - loss: 0.6930 - accuracy: 0.51 - ETA: 4:03 - loss: 0.6930 - accuracy: 0.51 - ETA: 4:02 - loss: 0.6930 - accuracy: 0.51 - ETA: 4:02 - loss: 0.6929 - accuracy: 0.51 - ETA: 4:01 - loss: 0.6929 - accuracy: 0.51 - ETA: 3:59 - loss: 0.6928 - accuracy: 0.51 - ETA: 3:59 - loss: 0.6928 - accuracy: 0.51 - ETA: 3:58 - loss: 0.6927 - accuracy: 0.51 - ETA: 3:56 - loss: 0.6927 - accuracy: 0.51 - ETA: 3:55 - loss: 0.6926 - accuracy: 0.51 - ETA: 3:54 - loss: 0.6925 - accuracy: 0.51 - ETA: 3:53 - loss: 0.6925 - accuracy: 0.51 - ETA: 3:52 - loss: 0.6924 - accuracy: 0.51 - ETA: 3:51 - loss: 0.6924 - accuracy: 0.51 - ETA: 3:51 - loss: 0.6923 - accuracy: 0.51 - ETA: 3:50 - loss: 0.6922 - accuracy: 0.51 - ETA: 3:49 - loss: 0.6922 - accuracy: 0.51 - ETA: 3:49 - loss: 0.6921 - accuracy: 0.51 - ETA: 3:48 - loss: 0.6920 - accuracy: 0.51 - ETA: 3:47 - loss: 0.6920 - accuracy: 0.51 - ETA: 3:47 - loss: 0.6919 - accuracy: 0.51 - ETA: 3:46 - loss: 0.6918 - accuracy: 0.51 - ETA: 3:45 - loss: 0.6917 - accuracy: 0.51 - ETA: 3:45 - loss: 0.6917 - accuracy: 0.51 - ETA: 3:44 - loss: 0.6916 - accuracy: 0.51 - ETA: 3:44 - loss: 0.6915 - accuracy: 0.52 - ETA: 3:43 - loss: 0.6914 - accuracy: 0.52 - ETA: 3:43 - loss: 0.6913 - accuracy: 0.52 - ETA: 3:42 - loss: 0.6912 - accuracy: 0.52 - ETA: 3:41 - loss: 0.6911 - accuracy: 0.52 - ETA: 3:40 - loss: 0.6910 - accuracy: 0.52 - ETA: 3:40 - loss: 0.6909 - accuracy: 0.52 - ETA: 3:40 - loss: 0.6908 - accuracy: 0.52 - ETA: 3:39 - loss: 0.6906 - accuracy: 0.52 - ETA: 3:38 - loss: 0.6905 - accuracy: 0.52 - ETA: 3:38 - loss: 0.6904 - accuracy: 0.52 - ETA: 3:37 - loss: 0.6902 - accuracy: 0.52 - ETA: 3:36 - loss: 0.6901 - accuracy: 0.52 - ETA: 3:35 - loss: 0.6899 - accuracy: 0.52 - ETA: 3:34 - loss: 0.6898 - accuracy: 0.52 - ETA: 3:34 - loss: 0.6896 - accuracy: 0.52 - ETA: 3:33 - loss: 0.6894 - accuracy: 0.52 - ETA: 3:33 - loss: 0.6892 - accuracy: 0.52 - ETA: 3:32 - loss: 0.6891 - accuracy: 0.52 - ETA: 3:30 - loss: 0.6889 - accuracy: 0.52 - ETA: 3:31 - loss: 0.6887 - accuracy: 0.52 - ETA: 3:31 - loss: 0.6885 - accuracy: 0.52 - ETA: 3:30 - loss: 0.6883 - accuracy: 0.52 - ETA: 3:29 - loss: 0.6880 - accuracy: 0.53 - ETA: 3:29 - loss: 0.6878 - accuracy: 0.53 - ETA: 3:28 - loss: 0.6876 - accuracy: 0.53 - ETA: 3:28 - loss: 0.6874 - accuracy: 0.53 - ETA: 3:27 - loss: 0.6871 - accuracy: 0.53 - ETA: 3:28 - loss: 0.6869 - accuracy: 0.53 - ETA: 3:27 - loss: 0.6866 - accuracy: 0.53 - ETA: 3:26 - loss: 0.6864 - accuracy: 0.53 - ETA: 3:25 - loss: 0.6861 - accuracy: 0.53 - ETA: 3:24 - loss: 0.6859 - accuracy: 0.53 - ETA: 3:23 - loss: 0.6856 - accuracy: 0.53 - ETA: 3:22 - loss: 0.6853 - accuracy: 0.53 - ETA: 3:22 - loss: 0.6850 - accuracy: 0.53 - ETA: 3:22 - loss: 0.6847 - accuracy: 0.53 - ETA: 3:21 - loss: 0.6845 - accuracy: 0.53 - ETA: 3:21 - loss: 0.6842 - accuracy: 0.53 - ETA: 3:20 - loss: 0.6838 - accuracy: 0.53 - ETA: 3:19 - loss: 0.6835 - accuracy: 0.53 - ETA: 3:19 - loss: 0.6832 - accuracy: 0.54 - ETA: 3:18 - loss: 0.6829 - accuracy: 0.54 - ETA: 3:17 - loss: 0.6826 - accuracy: 0.54 - ETA: 3:16 - loss: 0.6822 - accuracy: 0.54 - ETA: 3:15 - loss: 0.6819 - accuracy: 0.54 - ETA: 3:15 - loss: 0.6816 - accuracy: 0.54 - ETA: 3:14 - loss: 0.6812 - accuracy: 0.54 - ETA: 3:12 - loss: 0.6809 - accuracy: 0.54 - ETA: 3:12 - loss: 0.6805 - accuracy: 0.54 - ETA: 3:11 - loss: 0.6802 - accuracy: 0.54 - ETA: 3:10 - loss: 0.6798 - accuracy: 0.54 - ETA: 3:09 - loss: 0.6795 - accuracy: 0.54 - ETA: 3:08 - loss: 0.6791 - accuracy: 0.54 - ETA: 3:08 - loss: 0.6788 - accuracy: 0.54 - ETA: 3:07 - loss: 0.6784 - accuracy: 0.54 - ETA: 3:06 - loss: 0.6780 - accuracy: 0.54 - ETA: 3:06 - loss: 0.6777 - accuracy: 0.54 - ETA: 3:05 - loss: 0.6773 - accuracy: 0.55 - ETA: 3:04 - loss: 0.6769 - accuracy: 0.55 - ETA: 3:03 - loss: 0.6765 - accuracy: 0.55 - ETA: 3:03 - loss: 0.6761 - accuracy: 0.55 - ETA: 3:02 - loss: 0.6758 - accuracy: 0.55 - ETA: 3:01 - loss: 0.6754 - accuracy: 0.55 - ETA: 3:00 - loss: 0.6750 - accuracy: 0.55 - ETA: 2:59 - loss: 0.6746 - accuracy: 0.55 - ETA: 2:58 - loss: 0.6742 - accuracy: 0.55 - ETA: 2:57 - loss: 0.6738 - accuracy: 0.55 - ETA: 2:57 - loss: 0.6734 - accuracy: 0.55 - ETA: 2:56 - loss: 0.6730 - accuracy: 0.55 - ETA: 2:55 - loss: 0.6726 - accuracy: 0.55 - ETA: 2:54 - loss: 0.6722 - accuracy: 0.55 - ETA: 2:53 - loss: 0.6718 - accuracy: 0.55 - ETA: 2:53 - loss: 0.6713 - accuracy: 0.55 - ETA: 2:52 - loss: 0.6709 - accuracy: 0.55 - ETA: 2:51 - loss: 0.6705 - accuracy: 0.56 - ETA: 2:51 - loss: 0.6701 - accuracy: 0.56 - ETA: 2:50 - loss: 0.6697 - accuracy: 0.56 - ETA: 2:49 - loss: 0.6692 - accuracy: 0.56 - ETA: 2:48 - loss: 0.6688 - accuracy: 0.56 - ETA: 2:48 - loss: 0.6684 - accuracy: 0.56 - ETA: 2:47 - loss: 0.6680 - accuracy: 0.56 - ETA: 2:46 - loss: 0.6675 - accuracy: 0.5640\b\b\b\b\b\b\b\b\b\b\b\b\b\b\b\b\b\b\b\b\b\b\b\b\b\b\b\b\b\b\b\b\b\b\b\b\b\b\b\b\b\b\b\b\b\b\b\b\b\b\b\b\b\b\b\b\b\b\b\b\b\b\b\b\b\b\b\b\b\b\b\b\b\b\b\b\b\b\b\b\b\b\b\b\b\b"
     ]
    },
    {
     "name": "stdout",
     "output_type": "stream",
     "text": [
      "245/391 [=================>............] - ETA: 2:46 - loss: 0.6671 - accuracy: 0.56 - ETA: 2:45 - loss: 0.6667 - accuracy: 0.56 - ETA: 2:44 - loss: 0.6662 - accuracy: 0.56 - ETA: 2:43 - loss: 0.6658 - accuracy: 0.56 - ETA: 2:42 - loss: 0.6654 - accuracy: 0.56 - ETA: 2:41 - loss: 0.6649 - accuracy: 0.56 - ETA: 2:41 - loss: 0.6645 - accuracy: 0.56 - ETA: 2:40 - loss: 0.6640 - accuracy: 0.56 - ETA: 2:39 - loss: 0.6636 - accuracy: 0.56 - ETA: 2:38 - loss: 0.6632 - accuracy: 0.56 - ETA: 2:37 - loss: 0.6627 - accuracy: 0.57 - ETA: 2:37 - loss: 0.6623 - accuracy: 0.57 - ETA: 2:36 - loss: 0.6618 - accuracy: 0.57 - ETA: 2:35 - loss: 0.6614 - accuracy: 0.57 - ETA: 2:35 - loss: 0.6609 - accuracy: 0.57 - ETA: 2:34 - loss: 0.6605 - accuracy: 0.57 - ETA: 2:33 - loss: 0.6600 - accuracy: 0.57 - ETA: 2:32 - loss: 0.6596 - accuracy: 0.57 - ETA: 2:32 - loss: 0.6591 - accuracy: 0.57 - ETA: 2:31 - loss: 0.6587 - accuracy: 0.57 - ETA: 2:30 - loss: 0.6582 - accuracy: 0.57 - ETA: 2:29 - loss: 0.6578 - accuracy: 0.57 - ETA: 2:29 - loss: 0.6574 - accuracy: 0.57 - ETA: 2:28 - loss: 0.6569 - accuracy: 0.57 - ETA: 2:27 - loss: 0.6565 - accuracy: 0.57 - ETA: 2:26 - loss: 0.6560 - accuracy: 0.57 - ETA: 2:25 - loss: 0.6556 - accuracy: 0.57 - ETA: 2:24 - loss: 0.6551 - accuracy: 0.57 - ETA: 2:23 - loss: 0.6547 - accuracy: 0.58 - ETA: 2:22 - loss: 0.6542 - accuracy: 0.58 - ETA: 2:21 - loss: 0.6538 - accuracy: 0.58 - ETA: 2:21 - loss: 0.6533 - accuracy: 0.58 - ETA: 2:20 - loss: 0.6529 - accuracy: 0.58 - ETA: 2:19 - loss: 0.6524 - accuracy: 0.58 - ETA: 2:18 - loss: 0.6520 - accuracy: 0.58 - ETA: 2:17 - loss: 0.6515 - accuracy: 0.58 - ETA: 2:16 - loss: 0.6511 - accuracy: 0.58 - ETA: 2:15 - loss: 0.6506 - accuracy: 0.58 - ETA: 2:15 - loss: 0.6502 - accuracy: 0.58 - ETA: 2:14 - loss: 0.6497 - accuracy: 0.58 - ETA: 2:13 - loss: 0.6493 - accuracy: 0.58 - ETA: 2:12 - loss: 0.6488 - accuracy: 0.58 - ETA: 2:11 - loss: 0.6484 - accuracy: 0.58 - ETA: 2:11 - loss: 0.6479 - accuracy: 0.58 - ETA: 2:10 - loss: 0.6475 - accuracy: 0.58 - ETA: 2:09 - loss: 0.6470 - accuracy: 0.58 - ETA: 2:08 - loss: 0.6466 - accuracy: 0.58 - ETA: 2:08 - loss: 0.6461 - accuracy: 0.59 - ETA: 2:07 - loss: 0.6457 - accuracy: 0.59 - ETA: 2:06 - loss: 0.6452 - accuracy: 0.59 - ETA: 2:05 - loss: 0.6448 - accuracy: 0.59 - ETA: 2:05 - loss: 0.6443 - accuracy: 0.59 - ETA: 2:04 - loss: 0.6439 - accuracy: 0.59 - ETA: 2:03 - loss: 0.6435 - accuracy: 0.59 - ETA: 2:02 - loss: 0.6430 - accuracy: 0.59 - ETA: 2:01 - loss: 0.6426 - accuracy: 0.59 - ETA: 2:01 - loss: 0.6421 - accuracy: 0.59 - ETA: 2:00 - loss: 0.6417 - accuracy: 0.59 - ETA: 1:59 - loss: 0.6412 - accuracy: 0.59 - ETA: 1:58 - loss: 0.6408 - accuracy: 0.5960"
     ]
    },
    {
     "ename": "KeyboardInterrupt",
     "evalue": "",
     "output_type": "error",
     "traceback": [
      "\u001b[1;31m---------------------------------------------------------------------------\u001b[0m",
      "\u001b[1;31mKeyboardInterrupt\u001b[0m                         Traceback (most recent call last)",
      "\u001b[1;32m<ipython-input-9-ab5dfd33bc63>\u001b[0m in \u001b[0;36m<module>\u001b[1;34m\u001b[0m\n\u001b[0;32m      1\u001b[0m \u001b[0mNUM_EPOCHS\u001b[0m \u001b[1;33m=\u001b[0m \u001b[1;36m10\u001b[0m\u001b[1;33m\u001b[0m\u001b[1;33m\u001b[0m\u001b[0m\n\u001b[1;32m----> 2\u001b[1;33m \u001b[0mhistory\u001b[0m \u001b[1;33m=\u001b[0m \u001b[0mmodel\u001b[0m\u001b[1;33m.\u001b[0m\u001b[0mfit\u001b[0m\u001b[1;33m(\u001b[0m\u001b[0mtrain_dataset\u001b[0m\u001b[1;33m,\u001b[0m \u001b[0mepochs\u001b[0m\u001b[1;33m=\u001b[0m\u001b[0mNUM_EPOCHS\u001b[0m\u001b[1;33m,\u001b[0m \u001b[0mvalidation_data\u001b[0m\u001b[1;33m=\u001b[0m\u001b[0mtest_dataset\u001b[0m\u001b[1;33m)\u001b[0m\u001b[1;33m\u001b[0m\u001b[1;33m\u001b[0m\u001b[0m\n\u001b[0m",
      "\u001b[1;32m~\\Anaconda3\\lib\\site-packages\\tensorflow\\python\\keras\\engine\\training.py\u001b[0m in \u001b[0;36mfit\u001b[1;34m(self, x, y, batch_size, epochs, verbose, callbacks, validation_split, validation_data, shuffle, class_weight, sample_weight, initial_epoch, steps_per_epoch, validation_steps, validation_batch_size, validation_freq, max_queue_size, workers, use_multiprocessing)\u001b[0m\n\u001b[0;32m   1098\u001b[0m                 _r=1):\n\u001b[0;32m   1099\u001b[0m               \u001b[0mcallbacks\u001b[0m\u001b[1;33m.\u001b[0m\u001b[0mon_train_batch_begin\u001b[0m\u001b[1;33m(\u001b[0m\u001b[0mstep\u001b[0m\u001b[1;33m)\u001b[0m\u001b[1;33m\u001b[0m\u001b[1;33m\u001b[0m\u001b[0m\n\u001b[1;32m-> 1100\u001b[1;33m               \u001b[0mtmp_logs\u001b[0m \u001b[1;33m=\u001b[0m \u001b[0mself\u001b[0m\u001b[1;33m.\u001b[0m\u001b[0mtrain_function\u001b[0m\u001b[1;33m(\u001b[0m\u001b[0miterator\u001b[0m\u001b[1;33m)\u001b[0m\u001b[1;33m\u001b[0m\u001b[1;33m\u001b[0m\u001b[0m\n\u001b[0m\u001b[0;32m   1101\u001b[0m               \u001b[1;32mif\u001b[0m \u001b[0mdata_handler\u001b[0m\u001b[1;33m.\u001b[0m\u001b[0mshould_sync\u001b[0m\u001b[1;33m:\u001b[0m\u001b[1;33m\u001b[0m\u001b[1;33m\u001b[0m\u001b[0m\n\u001b[0;32m   1102\u001b[0m                 \u001b[0mcontext\u001b[0m\u001b[1;33m.\u001b[0m\u001b[0masync_wait\u001b[0m\u001b[1;33m(\u001b[0m\u001b[1;33m)\u001b[0m\u001b[1;33m\u001b[0m\u001b[1;33m\u001b[0m\u001b[0m\n",
      "\u001b[1;32m~\\Anaconda3\\lib\\site-packages\\tensorflow\\python\\eager\\def_function.py\u001b[0m in \u001b[0;36m__call__\u001b[1;34m(self, *args, **kwds)\u001b[0m\n\u001b[0;32m    826\u001b[0m     \u001b[0mtracing_count\u001b[0m \u001b[1;33m=\u001b[0m \u001b[0mself\u001b[0m\u001b[1;33m.\u001b[0m\u001b[0mexperimental_get_tracing_count\u001b[0m\u001b[1;33m(\u001b[0m\u001b[1;33m)\u001b[0m\u001b[1;33m\u001b[0m\u001b[1;33m\u001b[0m\u001b[0m\n\u001b[0;32m    827\u001b[0m     \u001b[1;32mwith\u001b[0m \u001b[0mtrace\u001b[0m\u001b[1;33m.\u001b[0m\u001b[0mTrace\u001b[0m\u001b[1;33m(\u001b[0m\u001b[0mself\u001b[0m\u001b[1;33m.\u001b[0m\u001b[0m_name\u001b[0m\u001b[1;33m)\u001b[0m \u001b[1;32mas\u001b[0m \u001b[0mtm\u001b[0m\u001b[1;33m:\u001b[0m\u001b[1;33m\u001b[0m\u001b[1;33m\u001b[0m\u001b[0m\n\u001b[1;32m--> 828\u001b[1;33m       \u001b[0mresult\u001b[0m \u001b[1;33m=\u001b[0m \u001b[0mself\u001b[0m\u001b[1;33m.\u001b[0m\u001b[0m_call\u001b[0m\u001b[1;33m(\u001b[0m\u001b[1;33m*\u001b[0m\u001b[0margs\u001b[0m\u001b[1;33m,\u001b[0m \u001b[1;33m**\u001b[0m\u001b[0mkwds\u001b[0m\u001b[1;33m)\u001b[0m\u001b[1;33m\u001b[0m\u001b[1;33m\u001b[0m\u001b[0m\n\u001b[0m\u001b[0;32m    829\u001b[0m       \u001b[0mcompiler\u001b[0m \u001b[1;33m=\u001b[0m \u001b[1;34m\"xla\"\u001b[0m \u001b[1;32mif\u001b[0m \u001b[0mself\u001b[0m\u001b[1;33m.\u001b[0m\u001b[0m_experimental_compile\u001b[0m \u001b[1;32melse\u001b[0m \u001b[1;34m\"nonXla\"\u001b[0m\u001b[1;33m\u001b[0m\u001b[1;33m\u001b[0m\u001b[0m\n\u001b[0;32m    830\u001b[0m       \u001b[0mnew_tracing_count\u001b[0m \u001b[1;33m=\u001b[0m \u001b[0mself\u001b[0m\u001b[1;33m.\u001b[0m\u001b[0mexperimental_get_tracing_count\u001b[0m\u001b[1;33m(\u001b[0m\u001b[1;33m)\u001b[0m\u001b[1;33m\u001b[0m\u001b[1;33m\u001b[0m\u001b[0m\n",
      "\u001b[1;32m~\\Anaconda3\\lib\\site-packages\\tensorflow\\python\\eager\\def_function.py\u001b[0m in \u001b[0;36m_call\u001b[1;34m(self, *args, **kwds)\u001b[0m\n\u001b[0;32m    853\u001b[0m       \u001b[1;31m# In this case we have created variables on the first call, so we run the\u001b[0m\u001b[1;33m\u001b[0m\u001b[1;33m\u001b[0m\u001b[1;33m\u001b[0m\u001b[0m\n\u001b[0;32m    854\u001b[0m       \u001b[1;31m# defunned version which is guaranteed to never create variables.\u001b[0m\u001b[1;33m\u001b[0m\u001b[1;33m\u001b[0m\u001b[1;33m\u001b[0m\u001b[0m\n\u001b[1;32m--> 855\u001b[1;33m       \u001b[1;32mreturn\u001b[0m \u001b[0mself\u001b[0m\u001b[1;33m.\u001b[0m\u001b[0m_stateless_fn\u001b[0m\u001b[1;33m(\u001b[0m\u001b[1;33m*\u001b[0m\u001b[0margs\u001b[0m\u001b[1;33m,\u001b[0m \u001b[1;33m**\u001b[0m\u001b[0mkwds\u001b[0m\u001b[1;33m)\u001b[0m  \u001b[1;31m# pylint: disable=not-callable\u001b[0m\u001b[1;33m\u001b[0m\u001b[1;33m\u001b[0m\u001b[0m\n\u001b[0m\u001b[0;32m    856\u001b[0m     \u001b[1;32melif\u001b[0m \u001b[0mself\u001b[0m\u001b[1;33m.\u001b[0m\u001b[0m_stateful_fn\u001b[0m \u001b[1;32mis\u001b[0m \u001b[1;32mnot\u001b[0m \u001b[1;32mNone\u001b[0m\u001b[1;33m:\u001b[0m\u001b[1;33m\u001b[0m\u001b[1;33m\u001b[0m\u001b[0m\n\u001b[0;32m    857\u001b[0m       \u001b[1;31m# Release the lock early so that multiple threads can perform the call\u001b[0m\u001b[1;33m\u001b[0m\u001b[1;33m\u001b[0m\u001b[1;33m\u001b[0m\u001b[0m\n",
      "\u001b[1;32m~\\Anaconda3\\lib\\site-packages\\tensorflow\\python\\eager\\function.py\u001b[0m in \u001b[0;36m__call__\u001b[1;34m(self, *args, **kwargs)\u001b[0m\n\u001b[0;32m   2941\u001b[0m        filtered_flat_args) = self._maybe_define_function(args, kwargs)\n\u001b[0;32m   2942\u001b[0m     return graph_function._call_flat(\n\u001b[1;32m-> 2943\u001b[1;33m         filtered_flat_args, captured_inputs=graph_function.captured_inputs)  # pylint: disable=protected-access\n\u001b[0m\u001b[0;32m   2944\u001b[0m \u001b[1;33m\u001b[0m\u001b[0m\n\u001b[0;32m   2945\u001b[0m   \u001b[1;33m@\u001b[0m\u001b[0mproperty\u001b[0m\u001b[1;33m\u001b[0m\u001b[1;33m\u001b[0m\u001b[0m\n",
      "\u001b[1;32m~\\Anaconda3\\lib\\site-packages\\tensorflow\\python\\eager\\function.py\u001b[0m in \u001b[0;36m_call_flat\u001b[1;34m(self, args, captured_inputs, cancellation_manager)\u001b[0m\n\u001b[0;32m   1917\u001b[0m       \u001b[1;31m# No tape is watching; skip to running the function.\u001b[0m\u001b[1;33m\u001b[0m\u001b[1;33m\u001b[0m\u001b[1;33m\u001b[0m\u001b[0m\n\u001b[0;32m   1918\u001b[0m       return self._build_call_outputs(self._inference_function.call(\n\u001b[1;32m-> 1919\u001b[1;33m           ctx, args, cancellation_manager=cancellation_manager))\n\u001b[0m\u001b[0;32m   1920\u001b[0m     forward_backward = self._select_forward_and_backward_functions(\n\u001b[0;32m   1921\u001b[0m         \u001b[0margs\u001b[0m\u001b[1;33m,\u001b[0m\u001b[1;33m\u001b[0m\u001b[1;33m\u001b[0m\u001b[0m\n",
      "\u001b[1;32m~\\Anaconda3\\lib\\site-packages\\tensorflow\\python\\eager\\function.py\u001b[0m in \u001b[0;36mcall\u001b[1;34m(self, ctx, args, cancellation_manager)\u001b[0m\n\u001b[0;32m    558\u001b[0m               \u001b[0minputs\u001b[0m\u001b[1;33m=\u001b[0m\u001b[0margs\u001b[0m\u001b[1;33m,\u001b[0m\u001b[1;33m\u001b[0m\u001b[1;33m\u001b[0m\u001b[0m\n\u001b[0;32m    559\u001b[0m               \u001b[0mattrs\u001b[0m\u001b[1;33m=\u001b[0m\u001b[0mattrs\u001b[0m\u001b[1;33m,\u001b[0m\u001b[1;33m\u001b[0m\u001b[1;33m\u001b[0m\u001b[0m\n\u001b[1;32m--> 560\u001b[1;33m               ctx=ctx)\n\u001b[0m\u001b[0;32m    561\u001b[0m         \u001b[1;32melse\u001b[0m\u001b[1;33m:\u001b[0m\u001b[1;33m\u001b[0m\u001b[1;33m\u001b[0m\u001b[0m\n\u001b[0;32m    562\u001b[0m           outputs = execute.execute_with_cancellation(\n",
      "\u001b[1;32m~\\Anaconda3\\lib\\site-packages\\tensorflow\\python\\eager\\execute.py\u001b[0m in \u001b[0;36mquick_execute\u001b[1;34m(op_name, num_outputs, inputs, attrs, ctx, name)\u001b[0m\n\u001b[0;32m     58\u001b[0m     \u001b[0mctx\u001b[0m\u001b[1;33m.\u001b[0m\u001b[0mensure_initialized\u001b[0m\u001b[1;33m(\u001b[0m\u001b[1;33m)\u001b[0m\u001b[1;33m\u001b[0m\u001b[1;33m\u001b[0m\u001b[0m\n\u001b[0;32m     59\u001b[0m     tensors = pywrap_tfe.TFE_Py_Execute(ctx._handle, device_name, op_name,\n\u001b[1;32m---> 60\u001b[1;33m                                         inputs, attrs, num_outputs)\n\u001b[0m\u001b[0;32m     61\u001b[0m   \u001b[1;32mexcept\u001b[0m \u001b[0mcore\u001b[0m\u001b[1;33m.\u001b[0m\u001b[0m_NotOkStatusException\u001b[0m \u001b[1;32mas\u001b[0m \u001b[0me\u001b[0m\u001b[1;33m:\u001b[0m\u001b[1;33m\u001b[0m\u001b[1;33m\u001b[0m\u001b[0m\n\u001b[0;32m     62\u001b[0m     \u001b[1;32mif\u001b[0m \u001b[0mname\u001b[0m \u001b[1;32mis\u001b[0m \u001b[1;32mnot\u001b[0m \u001b[1;32mNone\u001b[0m\u001b[1;33m:\u001b[0m\u001b[1;33m\u001b[0m\u001b[1;33m\u001b[0m\u001b[0m\n",
      "\u001b[1;31mKeyboardInterrupt\u001b[0m: "
     ]
    }
   ],
   "source": [
    "NUM_EPOCHS = 10\n",
    "history = model.fit(train_dataset, epochs=NUM_EPOCHS, validation_data=test_dataset)"
   ]
  },
  {
   "cell_type": "code",
   "execution_count": null,
   "metadata": {},
   "outputs": [],
   "source": [
    "import matplotlib.pyplot as plt\n",
    "\n",
    "\n",
    "def plot_graphs(history, string):\n",
    "  plt.plot(history.history[string])\n",
    "  plt.plot(history.history['val_'+string])\n",
    "  plt.xlabel(\"Epochs\")\n",
    "  plt.ylabel(string)\n",
    "  plt.legend([string, 'val_'+string])\n",
    "  plt.show()"
   ]
  },
  {
   "cell_type": "code",
   "execution_count": null,
   "metadata": {},
   "outputs": [],
   "source": [
    "plot_graphs(history, 'accuracy')"
   ]
  },
  {
   "cell_type": "code",
   "execution_count": null,
   "metadata": {},
   "outputs": [],
   "source": [
    "plot_graphs(history, 'loss')"
   ]
  }
 ],
 "metadata": {
  "kernelspec": {
   "display_name": "Python 3",
   "language": "python",
   "name": "python3"
  },
  "language_info": {
   "codemirror_mode": {
    "name": "ipython",
    "version": 3
   },
   "file_extension": ".py",
   "mimetype": "text/x-python",
   "name": "python",
   "nbconvert_exporter": "python",
   "pygments_lexer": "ipython3",
   "version": "3.7.1"
  }
 },
 "nbformat": 4,
 "nbformat_minor": 2
}
