{
 "cells": [
  {
   "cell_type": "code",
   "execution_count": 2,
   "metadata": {},
   "outputs": [],
   "source": [
    "import os\n",
    "path = f\"{os.getcwd()}/../tmp/happy-or-sad.zip\""
   ]
  },
  {
   "cell_type": "code",
   "execution_count": 3,
   "metadata": {},
   "outputs": [
    {
     "data": {
      "text/plain": [
       "'E:\\\\TensorflowDeveloperCertification\\\\TensorFlow-in-Practice-Coursera-master\\\\Course_1-Introduction_to_TensorFlow_for_Artificial_Intelligence_Machine_Learning_and_Deep Learning\\\\Week-4\\\\Excercise/../tmp/happy-or-sad.zip'"
      ]
     },
     "execution_count": 3,
     "metadata": {},
     "output_type": "execute_result"
    }
   ],
   "source": [
    "path"
   ]
  },
  {
   "cell_type": "code",
   "execution_count": 4,
   "metadata": {},
   "outputs": [
    {
     "data": {
      "text/plain": [
       "'E:\\\\TensorflowDeveloperCertification\\\\TensorFlow-in-Practice-Coursera-master\\\\Course_1-Introduction_to_TensorFlow_for_Artificial_Intelligence_Machine_Learning_and_Deep Learning\\\\Week-4\\\\Excercise'"
      ]
     },
     "execution_count": 4,
     "metadata": {},
     "output_type": "execute_result"
    }
   ],
   "source": [
    "pwd"
   ]
  },
  {
   "cell_type": "code",
   "execution_count": 5,
   "metadata": {},
   "outputs": [
    {
     "data": {
      "text/plain": [
       "'E:\\\\TensorflowDeveloperCertification\\\\TensorFlow-in-Practice-Coursera-master\\\\Course_1-Introduction_to_TensorFlow_for_Artificial_Intelligence_Machine_Learning_and_Deep Learning\\\\Week-4\\\\Excercise'"
      ]
     },
     "execution_count": 5,
     "metadata": {},
     "output_type": "execute_result"
    }
   ],
   "source": [
    "os.getcwd()"
   ]
  },
  {
   "cell_type": "code",
   "execution_count": 6,
   "metadata": {},
   "outputs": [],
   "source": [
    "os.chdir (\"E:\\\\TensorflowDeveloperCertification\\\\TensorFlow-in-Practice-Coursera-master\")"
   ]
  },
  {
   "cell_type": "code",
   "execution_count": 7,
   "metadata": {},
   "outputs": [
    {
     "data": {
      "text/plain": [
       "'E:\\\\TensorflowDeveloperCertification\\\\TensorFlow-in-Practice-Coursera-master'"
      ]
     },
     "execution_count": 7,
     "metadata": {},
     "output_type": "execute_result"
    }
   ],
   "source": [
    "pwd"
   ]
  },
  {
   "cell_type": "code",
   "execution_count": null,
   "metadata": {},
   "outputs": [],
   "source": []
  }
 ],
 "metadata": {
  "kernelspec": {
   "display_name": "Python 3",
   "language": "python",
   "name": "python3"
  }
 },
 "nbformat": 4,
 "nbformat_minor": 2
}
